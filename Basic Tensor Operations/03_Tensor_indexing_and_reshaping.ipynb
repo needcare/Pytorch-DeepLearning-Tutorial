
{
  "nbformat": 4,
  "nbformat_minor": 0,
  "metadata": {
    "colab": {
      "name": "03 Tensor indexing and reshaping.ipynb",
      "provenance": [],
      "collapsed_sections": [],
      "toc_visible": true
    },
    "kernelspec": {
      "name": "python3",
      "display_name": "Python 3"
    },
    "accelerator": "GPU"
  },
  "cells": [
    {
      "cell_type": "markdown",
      "metadata": {
        "id": "QN_EMVkWQG9G"
      },
      "source": [
        "# Importing PyTorch"
      ]
    },
    {
      "cell_type": "code",
      "metadata": {
        "id": "A_7CPDakQGOJ"
      },
      "source": [
        "import torch"
      ],
      "execution_count": 1,
      "outputs": []
    },
    {
      "cell_type": "markdown",
      "metadata": {
        "id": "FnCkRioaLr5u"
      },
      "source": [
        "# Tensor Indexing"
      ]
    },
    {
      "cell_type": "code",
      "metadata": {
        "id": "tdKNbXiAATxe"
      },
      "source": [
        "# Declaring 10 tensors at a time with each tensor being 1*10 shape.\n",
        "batch_size  = 10\n",
        "tensor_batch = torch.rand(10,10,1)"
      ],
      "execution_count": null,
      "outputs": []
    },
    {
      "cell_type": "code",
      "metadata": {
        "colab": {
          "base_uri": "https://localhost:8080/"
        },
        "id": "KZ0vqK-EAT2h",
        "outputId": "21e26f76-0367-42aa-d3b4-d337da7b1c89"
      },
      "source": [
        "tensor_batch.shape"
      ],
      "execution_count": null,
      "outputs": [
        {
          "output_type": "execute_result",
          "data": {
            "text/plain": [
              "torch.Size([10, 10, 1])"
            ]
          },
          "metadata": {
            "tags": []
          },
          "execution_count": 79
        }
      ]
    },
    {
      "cell_type": "markdown",
      "metadata": {
        "id": "dd_f68BsSin1"
      },
      "source": [
        "## Basic Indexing"
      ]
    },
    {
      "cell_type": "markdown",
      "metadata": {
        "id": "aIzTrU3qMcJ3"
      },
      "source": [
        "- Picking up first tensor."
      ]
    },
    {
      "cell_type": "code",
      "metadata": {
        "colab": {
          "base_uri": "https://localhost:8080/"
        },
        "id": "IlmAjukSAT7L",
        "outputId": "5066dc72-8f62-479e-86fe-7ee5f88ea908"
      },
      "source": [
        "tensor_batch[0]"
      ],
      "execution_count": null,
      "outputs": [
        {
          "output_type": "execute_result",
          "data": {
            "text/plain": [
              "tensor([[0.9973],\n",
              "        [0.6209],\n",
              "        [0.7938],\n",
              "        [0.2927],\n",
              "        [0.8947],\n",
              "        [0.8071],\n",
              "        [0.4581],\n",
              "        [0.9098],\n",
              "        [0.6260],\n",
              "        [0.7411]])"
            ]
          },
          "metadata": {
            "tags": []
          },
          "execution_count": 80
        }
      ]
    },
    {
      "cell_type": "markdown",
      "metadata": {
        "id": "z2L6ZMbLMjjb"
      },
      "source": [
        "- Picking up second tensor."
      ]
    },
    {
      "cell_type": "code",
      "metadata": {
        "colab": {
          "base_uri": "https://localhost:8080/"
        },
        "id": "k1y4g-Q9AT-2",
        "outputId": "af81a8f9-e4a4-49d2-90e8-b64fcd957262"
      },
      "source": [
        "tensor_batch[1]"
      ],
      "execution_count": null,
      "outputs": [
        {
          "output_type": "execute_result",
          "data": {
            "text/plain": [
              "tensor([[0.0818],\n",
              "        [0.3850],\n",
              "        [0.8719],\n",
              "        [0.8685],\n",
              "        [0.7441],\n",
              "        [0.0409],\n",
              "        [0.8789],\n",
              "        [0.9979],\n",
              "        [0.9880],\n",
              "        [0.4926]])"
            ]
          },
          "metadata": {
            "tags": []
          },
          "execution_count": 81
        }
      ]
    },
    {
      "cell_type": "markdown",
      "metadata": {
        "id": "aZolN6J-MqLB"
      },
      "source": [
        "- Picking first 3 tensors."
      ]
    },
    {
      "cell_type": "code",
      "metadata": {
        "colab": {
          "base_uri": "https://localhost:8080/"
        },
        "id": "Cou7gv0IAUCB",
        "outputId": "51ddcd85-b6ae-4461-81a5-a7d186c5dbd3"
      },
      "source": [
        "tensor_batch[0:3]"
      ],
      "execution_count": null,
      "outputs": [
        {
          "output_type": "execute_result",
          "data": {
            "text/plain": [
              "tensor([[[0.9973],\n",
              "         [0.6209],\n",
              "         [0.7938],\n",
              "         [0.2927],\n",
              "         [0.8947],\n",
              "         [0.8071],\n",
              "         [0.4581],\n",
              "         [0.9098],\n",
              "         [0.6260],\n",
              "         [0.7411]],\n",
              "\n",
              "        [[0.0818],\n",
              "         [0.3850],\n",
              "         [0.8719],\n",
              "         [0.8685],\n",
              "         [0.7441],\n",
              "         [0.0409],\n",
              "         [0.8789],\n",
              "         [0.9979],\n",
              "         [0.9880],\n",
              "         [0.4926]],\n",
              "\n",
              "        [[0.3499],\n",
              "         [0.2576],\n",
              "         [0.5023],\n",
              "         [0.3563],\n",
              "         [0.4616],\n",
              "         [0.8081],\n",
              "         [0.0333],\n",
              "         [0.1976],\n",
              "         [0.8805],\n",
              "         [0.9242]]])"
            ]
          },
          "metadata": {
            "tags": []
          },
          "execution_count": 82
        }
      ]
    },
    {
      "cell_type": "markdown",
      "metadata": {
        "id": "CfFPTNtEXHdr"
      },
      "source": [
        "- Getting first three elements of all tensors in the batch"
      ]
    },
    {
      "cell_type": "code",
      "metadata": {
        "colab": {
          "base_uri": "https://localhost:8080/"
        },
        "id": "OMp70G3WAUE4",
        "outputId": "b1aaf1ae-c574-4b21-a7fc-4c938f9b46ca"
      },
      "source": [
        "tensor_batch[:,0:3]"
      ],
      "execution_count": null,
      "outputs": [
        {
          "output_type": "execute_result",
          "data": {
            "text/plain": [
              "tensor([[[0.9973],\n",
              "         [0.6209],\n",
              "         [0.7938]],\n",
              "\n",
              "        [[0.0818],\n",
              "         [0.3850],\n",
              "         [0.8719]],\n",
              "\n",
              "        [[0.3499],\n",
              "         [0.2576],\n",
              "         [0.5023]],\n",
              "\n",
              "        [[0.1930],\n",
              "         [0.0848],\n",
              "         [0.6464]],\n",
              "\n",
              "        [[0.1258],\n",
              "         [0.7163],\n",
              "         [0.8157]],\n",
              "\n",
              "        [[0.6659],\n",
              "         [0.7845],\n",
              "         [0.6112]],\n",
              "\n",
              "        [[0.9918],\n",
              "         [0.6093],\n",
              "         [0.7552]],\n",
              "\n",
              "        [[0.7000],\n",
              "         [0.8483],\n",
              "         [0.2938]],\n",
              "\n",
              "        [[0.9124],\n",
              "         [0.1357],\n",
              "         [0.6674]],\n",
              "\n",
              "        [[0.4488],\n",
              "         [0.3542],\n",
              "         [0.8706]]])"
            ]
          },
          "metadata": {
            "tags": []
          },
          "execution_count": 84
        }
      ]
    },
    {
      "cell_type": "markdown",
      "metadata": {
        "id": "kDYBMTaXXMhx"
      },
      "source": [
        "- first 3 elements of first three tensors "
      ]
    },
    {
      "cell_type": "code",
      "metadata": {
        "colab": {