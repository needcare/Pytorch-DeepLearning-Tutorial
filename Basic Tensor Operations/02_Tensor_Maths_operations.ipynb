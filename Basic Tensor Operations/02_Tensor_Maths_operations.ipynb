
{
  "nbformat": 4,
  "nbformat_minor": 0,
  "metadata": {
    "colab": {
      "name": "02 Tensor Maths operations.ipynb",
      "provenance": [],
      "collapsed_sections": [],
      "toc_visible": true
    },
    "kernelspec": {
      "name": "python3",
      "display_name": "Python 3"
    },
    "accelerator": "GPU"
  },
  "cells": [
    {
      "cell_type": "markdown",
      "metadata": {
        "id": "vQvzPlLkRsQ5"
      },
      "source": [
        "# Involving Maths and Comparision Operators"
      ]
    },
    {
      "cell_type": "markdown",
      "metadata": {
        "id": "Xiy-r8m7YI_v"
      },
      "source": [
        "## Basic Math operators"
      ]
    },
    {
      "cell_type": "code",
      "metadata": {
        "id": "OffcxSeeTtJA"
      },
      "source": [
        "# Importing torch\n",
        "import torch"
      ],
      "execution_count": 1,
      "outputs": []
    },
    {
      "cell_type": "code",
      "metadata": {
        "id": "X3TFK0l0Roj_"
      },
      "source": [
        "# Let us declare two tensors.\n",
        "tensor_a = torch.tensor([1,2,3])\n",
        "tensor_b = torch.tensor([5,6,7])"
      ],
      "execution_count": null,
      "outputs": []
    },
    {
      "cell_type": "markdown",
      "metadata": {
        "id": "1bOaYhTtUBfP"
      },
      "source": [
        "- **Adding Two Tensors**"
      ]
    },
    {
      "cell_type": "code",
      "metadata": {
        "id": "a3TWI7OxRol8"
      },
      "source": [
        "# Way 1 using built-in functions.\n",
        "out_tensor = torch.empty(3)"
      ],
      "execution_count": null,
      "outputs": []
    },
    {
      "cell_type": "code",
      "metadata": {
        "id": "NT6_LPpaRooM"
      },
      "source": [
        "a_sum_b = torch.add(tensor_a, tensor_b)"
      ],
      "execution_count": null,
      "outputs": []
    },
    {
      "cell_type": "code",
      "metadata": {
        "colab": {
          "base_uri": "https://localhost:8080/"
        },
        "id": "JTZYqw-2RoqQ",
        "outputId": "ed95215a-e394-4354-903d-e2c84bb9e879"
      },
      "source": [
        "a_sum_b"
      ],
      "execution_count": null,
      "outputs": [
        {
          "output_type": "execute_result",
          "data": {
            "text/plain": [
              "tensor([ 6,  8, 10])"
            ]
          },
          "metadata": {
            "tags": []
          },
          "execution_count": 6
        }
      ]
    },
    {
      "cell_type": "code",
      "metadata": {
        "id": "QFKkdNANRotK"
      },
      "source": [
        "# Way 2 adding them directly.\n",
        "a_sum_b = tensor_a + tensor_b"
      ],
      "execution_count": null,
      "outputs": []
    },
    {
      "cell_type": "code",
      "metadata": {
        "colab": {
          "base_uri": "https://localhost:8080/"
        },
        "id": "riPYEmR2RoyU",
        "outputId": "5dccaebb-9604-4a97-8a85-ab8df389fa30"
      },
      "source": [
        "a_sum_b"
      ],
      "execution_count": null,
      "outputs": [
        {
          "output_type": "execute_result",
          "data": {
            "text/plain": [
              "tensor([ 6,  8, 10])"
            ]
          },
          "metadata": {
            "tags": []
          },
          "execution_count": 8
        }
      ]
    },
    {
      "cell_type": "markdown",
      "metadata": {
        "id": "WUqNaNChUwiJ"
      },
      "source": [
        "**Subtraction between two tensors.**"
      ]
    },
    {
      "cell_type": "code",
      "metadata": {
        "id": "El-HwrJQRo01"
      },
      "source": [
        "a_sub_b = tensor_a - tensor_b"
      ],
      "execution_count": null,
      "outputs": []
    },
    {
      "cell_type": "code",
      "metadata": {
        "colab": {
          "base_uri": "https://localhost:8080/"
        },
        "id": "seB9bO9RRo47",
        "outputId": "0342911e-333d-4970-de3a-402be9dc5aab"
      },
      "source": [
        "a_sub_b"
      ],
      "execution_count": null,
      "outputs": [
        {
          "output_type": "execute_result",
          "data": {
            "text/plain": [
              "tensor([-4, -4, -4])"
            ]
          },
          "metadata": {
            "tags": []
          },
          "execution_count": 10
        }
      ]
    },
    {
      "cell_type": "markdown",
      "metadata": {
        "id": "m2CF1sXWXNxX"
      },
      "source": [
        "**Division of Two tensors**"
      ]
    },
    {
      "cell_type": "code",
      "metadata": {
        "id": "awCX-o4jRo7R"
      },
      "source": [
        "a_divide_b = torch.true_divide(tensor_a,tensor_b)"
      ],
      "execution_count": null,
      "outputs": []
    },
    {
      "cell_type": "code",
      "metadata": {
        "colab": {
          "base_uri": "https://localhost:8080/"
        },
        "id": "4-afN3GLRo9e",
        "outputId": "b0c68fd1-f059-45b2-f478-6fe11b5fc443"
      },
      "source": [
        "a_divide_b\n",
        "# Element wise division."
      ],
      "execution_count": null,
      "outputs": [
        {
          "output_type": "execute_result",
          "data": {
            "text/plain": [
              "tensor([0.2000, 0.3333, 0.4286])"
            ]
          },
          "metadata": {
            "tags": []
          },
          "execution_count": 12
        }
      ]
    },
    {
      "cell_type": "code",
      "metadata": {
        "id": "c6dKkRhYRpA2"
      },
      "source": [
        "a_divide_b = tensor_a/tensor_b"
      ],
      "execution_count": null,
      "outputs": []
    },
    {
      "cell_type": "code",
      "metadata": {
        "colab": {
          "base_uri": "https://localhost:8080/"
        },
        "id": "BMS3vI3dRpDh",
        "outputId": "6dd8a7fc-3445-427f-f745-b2834c829b31"
      },
      "source": [
        "a_divide_b\n",
        "# Even it does the same thing."
      ],
      "execution_count": null,
      "outputs": [
        {
          "output_type": "execute_result",
          "data": {
            "text/plain": [
              "tensor([0.2000, 0.3333, 0.4286])"
            ]
          },
          "metadata": {
            "tags": []
          },
          "execution_count": 14
        }
      ]
    },
    {
      "cell_type": "markdown",
      "metadata": {
        "id": "TYmCekP0YH6b"
      },
      "source": [
        "**Inplace operations**\n",
        "- An in-place operation is an operation that changes directly the content of a given Tensor without making a copy. Inplace operations in pytorch are always postfixed with a _, like .add_() or .scatter_(). Python operations like += or *= are also inplace operations."
      ]
    },
    {
      "cell_type": "code",
      "metadata": {
        "colab": {
          "base_uri": "https://localhost:8080/"
        },
        "id": "Y-MjR97JRpF1",
        "outputId": "3f597ab6-eaba-44dd-8c53-6b59507f25e7"
      },
      "source": [
        "tensor_a"
      ],
      "execution_count": null,
      "outputs": [
        {
          "output_type": "execute_result",
          "data": {
            "text/plain": [
              "tensor([1, 2, 3])"
            ]
          },
          "metadata": {
            "tags": []
          },
          "execution_count": 15
        }
      ]
    },
    {
      "cell_type": "code",
      "metadata": {
        "colab": {
          "base_uri": "https://localhost:8080/"
        },
        "id": "kct2w-hDRpIu",
        "outputId": "1272cdcd-25c2-480c-aa27-850fbc770797"
      },
      "source": [
        "tensor_a.add_(tensor_b)"
      ],
      "execution_count": null,
      "outputs": [
        {
          "output_type": "execute_result",
          "data": {
            "text/plain": [
              "tensor([ 6,  8, 10])"
            ]
          },
          "metadata": {
            "tags": []
          },
          "execution_count": 16
        }
      ]
    },
    {
      "cell_type": "markdown",
      "metadata": {
        "id": "Q0fEa31hZGiN"
      },
      "source": [
        "- After applying the inplace operator the value of the tensor got changed for permanently."
      ]
    },
    {
      "cell_type": "code",
      "metadata": {
        "colab": {
          "base_uri": "https://localhost:8080/"
        },
        "id": "vIQh9-zWRpMW",
        "outputId": "1cd64f04-8d6d-425d-9ee8-7b613f723050"
      },
      "source": [
        "tensor_a"
      ],
      "execution_count": null,
      "outputs": [
        {
          "output_type": "execute_result",
          "data": {
            "text/plain": [
              "tensor([ 6,  8, 10])"
            ]
          },
          "metadata": {
            "tags": []
          },
          "execution_count": 17
        }
      ]
    },
    {
      "cell_type": "markdown",
      "metadata": {
        "id": "SVOWMZsyZRu4"
      },
      "source": [
        "**NOTE** : It is an equivalent of *tensor_a = tensor_a + tensor_b*"
      ]
    },
    {
      "cell_type": "markdown",
      "metadata": {
        "id": "erip0eDL8Mni"
      },
      "source": [
        "**Applying Exponents on tensors.**\n"
      ]
    },
    {
      "cell_type": "code",
      "metadata": {
        "id": "gFwctcM8RpPL"
      },
      "source": [
        "tensor_a = torch.tensor([1,2,3,4])"
      ],
      "execution_count": null,
      "outputs": []
    },
    {
      "cell_type": "code",
      "metadata": {
        "colab": {
          "base_uri": "https://localhost:8080/"
        },
        "id": "oKv4Cg2P8wK_",
        "outputId": "a289773e-cb7d-4510-e267-4e0e52cd0378"
      },
      "source": [
        "tensor_a"
      ],
      "execution_count": null,
      "outputs": [
        {
          "output_type": "execute_result",
          "data": {
            "text/plain": [
              "tensor([1, 2, 3, 4])"
            ]
          },
          "metadata": {
            "tags": []
          },
          "execution_count": 5
        }
      ]
    },
    {
      "cell_type": "code",
      "metadata": {
        "id": "Ze0hZ8QPRpSC"
      },
      "source": [
        "exp_tensor_a = tensor_a.pow(2)"
      ],
      "execution_count": null,
      "outputs": []
    },
    {
      "cell_type": "code",
      "metadata": {
        "id": "ziWWhZ1GRpXO",
        "colab": {
          "base_uri": "https://localhost:8080/"
        },
        "outputId": "f50b6231-e986-449f-a9e2-3171a6360f94"
      },
      "source": [
        "exp_tensor_a"
      ],
      "execution_count": null,
      "outputs": [
        {
          "output_type": "execute_result",
          "data": {
            "text/plain": [
              "tensor([ 1,  4,  9, 16])"
            ]
          },
          "metadata": {
            "tags": []
          },
          "execution_count": 4
        }
      ]
    },
    {
      "cell_type": "code",
      "metadata": {
        "id": "hb1skXJf8vL2"
      },
      "source": [
        "tensor_b = torch.tensor([[1,2,3],\n",
        "                         [4,5,6],\n",
        "                         [7,8,9]])"
      ],
      "execution_count": null,
      "outputs": []
    },
    {
      "cell_type": "code",
      "metadata": {
        "colab": {
          "base_uri": "https://localhost:8080/"
        },
        "id": "Hb-Gleyl83vD",
        "outputId": "87897083-53a1-4503-cb52-ddeb11e1b6b8"
      },
      "source": [
        "tensor_b"
      ],
      "execution_count": null,
      "outputs": [
        {
          "output_type": "execute_result",
          "data": {
            "text/plain": [
              "tensor([[1, 2, 3],\n",
              "        [4, 5, 6],\n",
              "        [7, 8, 9]])"
            ]
          },
          "metadata": {
            "tags": []
          },
          "execution_count": 11
        }
      ]
    },
    {
      "cell_type": "code",
      "metadata": {
        "id": "Q34ygeX785A3"
      },
      "source": [
        "exp_tensor_b = tensor_b.pow(2)"
      ],
      "execution_count": null,
      "outputs": []
    },
    {
      "cell_type": "code",
      "metadata": {
        "colab": {
          "base_uri": "https://localhost:8080/"
        },
        "id": "KtwvNiR29L3V",
        "outputId": "5c1a8899-9f34-4f4a-80b8-393542409c56"
      },
      "source": [
        "exp_tensor_b"
      ],
      "execution_count": null,
      "outputs": [
        {
          "output_type": "execute_result",
          "data": {
            "text/plain": [
              "tensor([[ 1,  4,  9],\n",
              "        [16, 25, 36],\n",
              "        [49, 64, 81]])"
            ]
          },
          "metadata": {
            "tags": []
          },
          "execution_count": 13
        }
      ]
    },
    {
      "cell_type": "markdown",
      "metadata": {
        "id": "5Jw912tJ9Ose"
      },
      "source": [
        "- We can understand that this is gonna apply power on single elements at a time not confusing it with the matrix multiplication."
      ]
    },
    {
      "cell_type": "code",
      "metadata": {
        "id": "XSUPWBgZ9OaH"
      },
      "source": [
        "# Other equivalent for this with a more pythonic code will be as follows.\n",
        "exp_tensor_a = tensor_a**2"
      ],
      "execution_count": null,
      "outputs": []
    },
    {
      "cell_type": "code",
      "metadata": {
        "colab": {
          "base_uri": "https://localhost:8080/"
        },
        "id": "rhi5JGxs9NN5",
        "outputId": "2415bd1d-abd1-46c2-931d-6c8aefc68add"
      },
      "source": [
        "exp_tensor_a"
      ],
      "execution_count": null,
      "outputs": [
        {
          "output_type": "execute_result",
          "data": {
            "text/plain": [
              "tensor([ 1,  4,  9, 16])"
            ]
          },
          "metadata": {
            "tags": []
          },
          "execution_count": 15
        }
      ]
    },
    {
      "cell_type": "code",
      "metadata": {
        "colab": {
          "base_uri": "https://localhost:8080/"
        },
        "id": "Fu8lG4vG-H1s",
        "outputId": "140b4463-175e-47be-9453-4823b60c9b73"
      },
      "source": [
        "# Inplace operator would be.\n",
        "tensor_a.pow_(2)"
      ],
      "execution_count": null,
      "outputs": [
        {
          "output_type": "execute_result",
          "data": {
            "text/plain": [
              "tensor([ 1,  4,  9, 16])"
            ]
          },
          "metadata": {
            "tags": []
          },
          "execution_count": 18
        }
      ]
    },
    {
      "cell_type": "code",
      "metadata": {
        "colab": {
          "base_uri": "https://localhost:8080/"
        },
        "id": "39gyjkqV-SHU",
        "outputId": "a836f434-1549-485f-96a6-ed616a62dce5"
      },
      "source": [
        "tensor_a\n",
        "# Changes got permanent with this Inplace operator."
      ],
      "execution_count": null,
      "outputs": [
        {
          "output_type": "execute_result",
          "data": {
            "text/plain": [
              "tensor([ 1,  4,  9, 16])"
            ]
          },
          "metadata": {
            "tags": []
          },
          "execution_count": 19
        }
      ]
    },
    {
      "cell_type": "markdown",
      "metadata": {
        "id": "cWtyTQtF-nqo"
      },
      "source": [
        "## Comparision between the Tensors"
      ]
    },
    {
      "cell_type": "code",
      "metadata": {
        "colab": {
          "base_uri": "https://localhost:8080/"
        },
        "id": "i7cTE5wm-euH",
        "outputId": "e8d40bda-af91-41fc-d6bb-f8461c2632b8"
      },
      "source": [
        "tensor_a>0"
      ],
      "execution_count": null,
      "outputs": [
        {
          "output_type": "execute_result",
          "data": {
            "text/plain": [
              "tensor([True, True, True, True])"
            ]
          },
          "metadata": {
            "tags": []
          },
          "execution_count": 20
        }
      ]
    },
    {
      "cell_type": "code",
      "metadata": {
        "colab": {
          "base_uri": "https://localhost:8080/"
        },
        "id": "_So6fNiH-tg2",
        "outputId": "162a7e13-eb44-4487-8cc0-86dd8e106aec"
      },
      "source": [
        "tensor_b<0"
      ],
      "execution_count": null,
      "outputs": [
        {
          "output_type": "execute_result",
          "data": {
            "text/plain": [
              "tensor([[False, False, False],\n",
              "        [False, False, False],\n",
              "        [False, False, False]])"
            ]
          },
          "metadata": {
            "tags": []
          },
          "execution_count": 21
        }
      ]
    },
    {
      "cell_type": "code",
      "metadata": {
        "id": "Sdbp9Uou-_Zl"
      },
      "source": [
        "tensor_c = tensor_b"
      ],
      "execution_count": null,
      "outputs": []
    },
    {
      "cell_type": "code",
      "metadata": {
        "colab": {
          "base_uri": "https://localhost:8080/"
        },
        "id": "CcgT1Duu_Mx-",
        "outputId": "aa58dbd0-4f51-48c4-abd4-ba5bae560fd7"
      },
      "source": [
        "tensor_b == tensor_c\n",
        "# Tensors with equal shape can be compared or else its gonna throw an exception."
      ],
      "execution_count": null,
      "outputs": [
        {
          "output_type": "execute_result",
          "data": {
            "text/plain": [
              "tensor([[True, True, True],\n",
              "        [True, True, True],\n",
              "        [True, True, True]])"
            ]
          },
          "metadata": {
            "tags": []
          },
          "execution_count": 27
        }
      ]
    },
    {
      "cell_type": "markdown",
      "metadata": {
        "id": "zNVVW_Uh-53S"
      },
      "source": [
        "# Matrices"
      ]
    },
    {
      "cell_type": "markdown",
      "metadata": {
        "id": "vxtb0OTlNGrV"
      },
      "source": [
        "**Matrix Multiplication**\n",
        "- **Rule:** always remember if matrixA is of m rows amd n columns and matrixB is of p rows and q columns then for Multiplication ***n==p*** is True."
      ]
    },
    {
      "cell_type": "code",
      "metadata": {
        "id": "SnWKSZ80-v2s"
      },
      "source": [
        "# Initializing two matrices.\n",
        "matrixA=torch.rand((3,6))\n",
        "matrixB=torch.rand((6,3))"
      ],
      "execution_count": 6,
      "outputs": []
    },
    {
      "cell_type": "code",
      "metadata": {
        "id": "Mqm7pwx7-z5I",
        "colab": {
          "base_uri": "https://localhost:8080/"
        },
        "outputId": "2b10f3fa-2db0-4725-8c6c-09e6bd0a5365"
      },
      "source": [
        "matrixA, matrixB"
      ],
      "execution_count": 8,
      "outputs": [
        {
          "output_type": "execute_result",
          "data": {
            "text/plain": [
              "(tensor([[0.8670, 0.2192, 0.4036, 0.7511, 0.0930, 0.1595],\n",
              "         [0.0713, 0.3994, 0.0611, 0.9112, 0.5816, 0.2688],\n",
              "         [0.4340, 0.2112, 0.7247, 0.0151, 0.2244, 0.1177]]),\n",
              " tensor([[0.4170, 0.8120, 0.8982],\n",
              "         [0.4306, 0.6570, 0.6875],\n",
              "         [0.0131, 0.0806, 0.5084],\n",
              "         [0.4071, 0.8747, 0.9344],\n",
              "         [0.3930, 0.4247, 0.3696],\n",
              "         [0.1423, 0.9799, 0.9119]]))"
            ]
          },
          "metadata": {
            "tags": []
          },
          "execution_count": 8
        }
      ]
    },
    {
      "cell_type": "code",
      "metadata": {
        "id": "685RolbDRRgX"
      },
      "source": [
        "multi_matrix = torch.mm(matrixA, matrixB)"
      ],
      "execution_count": 9,
      "outputs": []
    },
    {
      "cell_type": "code",
      "metadata": {
        "colab": {
          "base_uri": "https://localhost:8080/"
        },
        "id": "tiwFO-hGRrfC",
        "outputId": "43d755bf-ecca-44d0-9fa1-98a684ba3cdf"
      },
      "source": [
        "multi_matrix, print(multi_matrix.shape)"
      ],
      "execution_count": 12,
      "outputs": [
        {
          "output_type": "stream",
          "text": [
            "torch.Size([3, 3])\n"
          ],
          "name": "stdout"
        },
        {
          "output_type": "execute_result",
          "data": {
            "text/plain": [
              "(tensor([[0.8263, 1.7333, 2.0163],\n",
              "         [0.8403, 1.6327, 1.6812],\n",
              "         [0.3925, 0.7733, 1.1078]]), None)"
            ]
          },
          "metadata": {
            "tags": []
          },
          "execution_count": 12
        }
      ]
    },
    {
      "cell_type": "markdown",
      "metadata": {
        "id": "7EraYdifSVYn"
      },
      "source": [
        "**Matrix Exponentiation:**\n",
        "- It's the multiplication of a matrix with itself for n times the power raised, Ex: matrixA power 2 = matrixA multiplied by matrixA."
      ]
    },
    {
      "cell_type": "code",
      "metadata": {
        "id": "Epvad83mRs3x"
      },
      "source": [