
{
  "nbformat": 4,
  "nbformat_minor": 0,
  "metadata": {
    "colab": {
      "name": "02 Tensor Maths operations.ipynb",
      "provenance": [],
      "collapsed_sections": [],
      "toc_visible": true
    },
    "kernelspec": {
      "name": "python3",
      "display_name": "Python 3"
    },
    "accelerator": "GPU"
  },
  "cells": [
    {
      "cell_type": "markdown",
      "metadata": {
        "id": "vQvzPlLkRsQ5"
      },
      "source": [
        "# Involving Maths and Comparision Operators"
      ]
    },
    {
      "cell_type": "markdown",
      "metadata": {
        "id": "Xiy-r8m7YI_v"
      },
      "source": [
        "## Basic Math operators"
      ]
    },
    {
      "cell_type": "code",
      "metadata": {
        "id": "OffcxSeeTtJA"
      },
      "source": [
        "# Importing torch\n",
        "import torch"
      ],
      "execution_count": 1,
      "outputs": []
    },
    {
      "cell_type": "code",
      "metadata": {
        "id": "X3TFK0l0Roj_"
      },
      "source": [
        "# Let us declare two tensors.\n",
        "tensor_a = torch.tensor([1,2,3])\n",
        "tensor_b = torch.tensor([5,6,7])"
      ],
      "execution_count": null,
      "outputs": []
    },
    {
      "cell_type": "markdown",
      "metadata": {
        "id": "1bOaYhTtUBfP"
      },
      "source": [
        "- **Adding Two Tensors**"
      ]
    },
    {
      "cell_type": "code",
      "metadata": {
        "id": "a3TWI7OxRol8"
      },
      "source": [
        "# Way 1 using built-in functions.\n",
        "out_tensor = torch.empty(3)"
      ],
      "execution_count": null,
      "outputs": []
    },
    {
      "cell_type": "code",
      "metadata": {
        "id": "NT6_LPpaRooM"
      },
      "source": [
        "a_sum_b = torch.add(tensor_a, tensor_b)"
      ],
      "execution_count": null,
      "outputs": []
    },
    {
      "cell_type": "code",
      "metadata": {
        "colab": {
          "base_uri": "https://localhost:8080/"
        },
        "id": "JTZYqw-2RoqQ",
        "outputId": "ed95215a-e394-4354-903d-e2c84bb9e879"
      },
      "source": [
        "a_sum_b"
      ],
      "execution_count": null,
      "outputs": [
        {
          "output_type": "execute_result",
          "data": {
            "text/plain": [
              "tensor([ 6,  8, 10])"
            ]
          },
          "metadata": {
            "tags": []
          },
          "execution_count": 6
        }
      ]
    },
    {
      "cell_type": "code",
      "metadata": {
        "id": "QFKkdNANRotK"
      },
      "source": [
        "# Way 2 adding them directly.\n",
        "a_sum_b = tensor_a + tensor_b"
      ],
      "execution_count": null,
      "outputs": []
    },
    {
      "cell_type": "code",
      "metadata": {
        "colab": {
          "base_uri": "https://localhost:8080/"
        },
        "id": "riPYEmR2RoyU",
        "outputId": "5dccaebb-9604-4a97-8a85-ab8df389fa30"
      },
      "source": [
        "a_sum_b"
      ],
      "execution_count": null,
      "outputs": [
        {
          "output_type": "execute_result",
          "data": {
            "text/plain": [
              "tensor([ 6,  8, 10])"
            ]
          },
          "metadata": {
            "tags": []
          },
          "execution_count": 8
        }
      ]
    },
    {
      "cell_type": "markdown",
      "metadata": {
        "id": "WUqNaNChUwiJ"
      },
      "source": [
        "**Subtraction between two tensors.**"
      ]
    },
    {
      "cell_type": "code",
      "metadata": {
        "id": "El-HwrJQRo01"
      },
      "source": [
        "a_sub_b = tensor_a - tensor_b"
      ],
      "execution_count": null,
      "outputs": []
    },
    {
      "cell_type": "code",
      "metadata": {
        "colab": {
          "base_uri": "https://localhost:8080/"
        },
        "id": "seB9bO9RRo47",
        "outputId": "0342911e-333d-4970-de3a-402be9dc5aab"
      },
      "source": [
        "a_sub_b"
      ],
      "execution_count": null,
      "outputs": [
        {
          "output_type": "execute_result",
          "data": {
            "text/plain": [
              "tensor([-4, -4, -4])"
            ]
          },
          "metadata": {
            "tags": []
          },
          "execution_count": 10
        }
      ]
    },
    {
      "cell_type": "markdown",
      "metadata": {
        "id": "m2CF1sXWXNxX"
      },
      "source": [
        "**Division of Two tensors**"
      ]
    },
    {
      "cell_type": "code",
      "metadata": {
        "id": "awCX-o4jRo7R"
      },
      "source": [
        "a_divide_b = torch.true_divide(tensor_a,tensor_b)"
      ],
      "execution_count": null,
      "outputs": []
    },
    {
      "cell_type": "code",
      "metadata": {
        "colab": {
          "base_uri": "https://localhost:8080/"
        },
        "id": "4-afN3GLRo9e",
        "outputId": "b0c68fd1-f059-45b2-f478-6fe11b5fc443"
      },
      "source": [
        "a_divide_b\n",
        "# Element wise division."
      ],
      "execution_count": null,
      "outputs": [
        {
          "output_type": "execute_result",
          "data": {
            "text/plain": [
              "tensor([0.2000, 0.3333, 0.4286])"
            ]
          },
          "metadata": {
            "tags": []
          },
          "execution_count": 12
        }
      ]
    },
    {
      "cell_type": "code",
      "metadata": {
        "id": "c6dKkRhYRpA2"
      },
      "source": [
        "a_divide_b = tensor_a/tensor_b"
      ],
      "execution_count": null,
      "outputs": []
    },
    {
      "cell_type": "code",
      "metadata": {
        "colab": {
          "base_uri": "https://localhost:8080/"
        },
        "id": "BMS3vI3dRpDh",
        "outputId": "6dd8a7fc-3445-427f-f745-b2834c829b31"
      },
      "source": [
        "a_divide_b\n",
        "# Even it does the same thing."
      ],
      "execution_count": null,
      "outputs": [
        {
          "output_type": "execute_result",
          "data": {
            "text/plain": [
              "tensor([0.2000, 0.3333, 0.4286])"
            ]
          },
          "metadata": {
            "tags": []
          },
          "execution_count": 14
        }
      ]
    },
    {
      "cell_type": "markdown",
      "metadata": {
        "id": "TYmCekP0YH6b"
      },
      "source": [
        "**Inplace operations**\n",