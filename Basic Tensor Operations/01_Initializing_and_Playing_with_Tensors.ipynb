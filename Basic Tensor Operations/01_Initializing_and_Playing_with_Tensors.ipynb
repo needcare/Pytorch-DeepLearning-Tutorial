{
  "nbformat": 4,
  "nbformat_minor": 0,
  "metadata": {
    "colab": {
      "name": "01 Initializing and Playing with Tensors.ipynb",
      "provenance": [],
      "collapsed_sections": [],
      "toc_visible": true
    },
    "kernelspec": {
      "name": "python3",
      "display_name": "Python 3"
    },
    "accelerator": "GPU"
  },
  "cells": [
    {
      "cell_type": "markdown",
      "metadata": {
        "id": "jjvWqXtrFy9H"
      },
      "source": [
        "# What is a TENSOR ?"
      ]
    },
    {
      "cell_type": "markdown",
      "metadata": {
        "id": "jjOMolD7F8nH"
      },
      "source": [
        "- In mathematics, a tensor is an algebraic object that describes a relationship between sets of algebraic objects related to a vector space. Objects that tensors may map between include vectors and scalars, and even other tensors.\r\n",
        "- Tensors are simply mathematical objects that can be used to describe physical properties, just like scalars and vectors. In fact tensors are merely a generalisation of scalars and vectors; a scalar is a zero rank tensor, and a vector is a first rank tensor."
      ]
    },
    {
      "cell_type": "markdown",
      "metadata": {
        "id": "RLex3VemGZrx"
      },
      "source": [
        "# How different is VECTOR from TENSOR ?"
      ]
    },
    {
      "cell_type": "markdown",
      "metadata": {
        "id": "BIrXFArFGe6A"
      },
      "source": [
        "- The tensor is a more generalized form of scalar and vector. Or, the scalar, vector are the special cases of tensor. If a tensor has only magnitude and no direction (i.e., rank 0 tensor), then it is called scalar. If a tensor has magnitude and one direction (i.e., rank 1 tensor), then it is called vector."
      ]
    },
    {
      "cell_type": "markdown",
      "metadata": {
        "id": "S9fEojkVuYLX"
      },
      "source": [
        "# Installing Pytorch"
      ]
    },
    {
      "cell_type": "code",
      "metadata": {
        "colab": {
          "base_uri": "https://localhost:8080/"
        },
        "id": "c91Eb7iSsBI5",
        "outputId": "eb3c03d9-a0f4-46d6-8d8b-f3096a181534"
      },
      "source": [
        "!pip install torch torchvision"
      ],
      "execution_count": 1,
      "outputs": [
        {
          "output_type": "stream",
          "text": [
            "Requirement already satisfied: torch in /usr/local/lib/python3.7/dist-packages (1.8.0+cu101)\n",
            "Requirement already satisfied: torchvision in /usr/local/lib/python3.7/dist-packages (0.9.0+cu101)\n",
            "Requirement already satisfied: numpy in /usr/local/lib/python3.7/dist-packages (from torch) (1.19.5)\n",
            "Requirement already satisfied: typing-extensions in /usr/local/lib/python3.7/dist-packages (from torch) (3.7.4.3)\n",
            "Requirement already satisfied: pillow>=4.1.1 in /usr/local/lib/python3.7/dist-packages (from torchvision) (7.0.0)\n"
          ],
          "name": "stdout"
        }
      ]
    },
    {
      "cell_type": "markdown",
      "metadata": {
        "id": "01Di99NQudzc"
      },
      "source": [
        "# Initializing the Tensors and its Attributes"
      ]
    },
    {
      "cell_type": "code",
      "metadata": {
        "id": "FIHrYQ9OtBtr"
      },
      "source": [
        "import torch"
      ],
      "execution_count": 2,
      "outputs": []
    },
    {
      "cell_type": "code",
      "metadata": {
        "id": "ZPr2jb8zuj3R"
      },
      "source": [
        "# Initializing a tensor.\r\n",
        "# Setting device type to 'cuda', if not set then it will go with 'cpu' by default.\r\n",
        "# Setting datatype to float32.\r\n",
        "\r\n",
        "my_tensor=torch.tensor([[1,3,4],[2,4,5]],dtype=torch.float32, device='cuda')"
      ],
      "execution_count": null,
      "outputs": []
    },
    {
      "cell_type": "code",
      "metadata": {
        "colab": {
          "base_uri": "https://localhost:8080/"
        },
        "id": "gt_REg1nuqWu",
        "outputId": "b3242ad6-1863-4df1-af79-2fd31a9493bb"
      },
      "source": [
        "my_tensor"
      ],
      "execution_count": null,
      "outputs": [
        {
          "output_type": "execute_result",
          "data": {
            "text/plain": [
              "tensor([[1., 3., 4.],\n",
              "        [2., 4., 5.]], device='cuda:0')"
            ]
          },
          "metadata": {
            "tags": []
          },
          "execution_count": 4
        }
      ]
    },
    {
      "cell_type": "markdown",
      "metadata": {
        "id": "O_Z2KBI0JLZu"
      },
      "source": [
        "## Other Tensor Initialization techniques."
      ]
    },
    {
      "cell_type": "markdown",
      "metadata": {
        "id": "8CB_mpCtOnQl"
      },
      "source": [
        "- **torch.empty( )** Returns a tensor filled with uninitialized data. The shape of the tensor is defined by the variable argument size."
      ]
    },
    {
      "cell_type": "code",
      "metadata": {
        "id": "_DxS-Y8uute3"
      },
      "source": [
        "new_tensor = torch.empty(size=(2,3))"
      ],
      "execution_count": null,
      "outputs": []
    },
    {
      "cell_type": "code",
      "metadata": {
        "colab": {
          "base_uri": "https://localhost:8080/"
        },
        "id": "aMR77K9bJGEw",
        "outputId": "0f8b56e2-b63f-48bc-a49e-a37c9fc7c467"
      },
      "source": [
        "print(new_tensor)"
      ],
      "execution_count": null,
      "outputs": [
        {
          "output_type": "stream",
          "text": [
            "tensor([[-3.2374e-24,  3.0764e-41, -1.9940e+35],\n",
            "        [ 3.0764e-41, -3.2211e-24,  3.0764e-41]])\n"
          ],
          "name": "stdout"
        }
      ]
    },
    {
      "cell_type": "code",
      "metadata": {
        "id": "DbtIPbAmJGQv"
      },
      "source