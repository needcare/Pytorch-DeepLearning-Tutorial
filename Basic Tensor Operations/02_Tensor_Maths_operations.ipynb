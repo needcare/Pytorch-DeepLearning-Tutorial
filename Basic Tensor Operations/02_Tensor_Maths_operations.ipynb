
{
  "nbformat": 4,
  "nbformat_minor": 0,
  "metadata": {
    "colab": {
      "name": "02 Tensor Maths operations.ipynb",
      "provenance": [],
      "collapsed_sections": [],
      "toc_visible": true
    },
    "kernelspec": {
      "name": "python3",
      "display_name": "Python 3"
    },
    "accelerator": "GPU"
  },
  "cells": [
    {
      "cell_type": "markdown",
      "metadata": {
        "id": "vQvzPlLkRsQ5"
      },
      "source": [
        "# Involving Maths and Comparision Operators"
      ]
    },
    {
      "cell_type": "markdown",
      "metadata": {
        "id": "Xiy-r8m7YI_v"
      },
      "source": [
        "## Basic Math operators"
      ]
    },
    {
      "cell_type": "code",
      "metadata": {
        "id": "OffcxSeeTtJA"
      },
      "source": [
        "# Importing torch\n",
        "import torch"
      ],
      "execution_count": 1,
      "outputs": []
    },
    {
      "cell_type": "code",
      "metadata": {
        "id": "X3TFK0l0Roj_"
      },
      "source": [
        "# Let us declare two tensors.\n",
        "tensor_a = torch.tensor([1,2,3])\n",
        "tensor_b = torch.tensor([5,6,7])"
      ],
      "execution_count": null,
      "outputs": []
    },
    {
      "cell_type": "markdown",
      "metadata": {
        "id": "1bOaYhTtUBfP"
      },
      "source": [
        "- **Adding Two Tensors**"
      ]
    },
    {
      "cell_type": "code",
      "metadata": {
        "id": "a3TWI7OxRol8"
      },
      "source": [
        "# Way 1 using built-in functions.\n",
        "out_tensor = torch.empty(3)"
      ],
      "execution_count": null,
      "outputs": []
    },
    {
      "cell_type": "code",
      "metadata": {
        "id": "NT6_LPpaRooM"
      },
      "source": [
        "a_sum_b = torch.add(tensor_a, tensor_b)"
      ],
      "execution_count": null,
      "outputs": []
    },
    {
      "cell_type": "code",
      "metadata": {
        "colab": {
          "base_uri": "https://localhost:8080/"
        },
        "id": "JTZYqw-2RoqQ",
        "outputId": "ed95215a-e394-4354-903d-e2c84bb9e879"
      },
      "source": [
        "a_sum_b"
      ],
      "execution_count": null,
      "outputs": [
        {
          "output_type": "execute_result",
          "data": {
            "text/plain": [
              "tensor([ 6,  8, 10])"
            ]
          },
          "metadata": {
            "tags": []
          },
          "execution_count": 6
        }
      ]
    },