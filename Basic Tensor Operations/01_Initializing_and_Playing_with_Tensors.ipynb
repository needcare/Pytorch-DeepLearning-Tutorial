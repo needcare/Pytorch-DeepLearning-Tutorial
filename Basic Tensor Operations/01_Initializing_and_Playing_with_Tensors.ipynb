{
  "nbformat": 4,
  "nbformat_minor": 0,
  "metadata": {
    "colab": {
      "name": "01 Initializing and Playing with Tensors.ipynb",
      "provenance": [],
      "collapsed_sections": [],
      "toc_visible": true
    },
    "kernelspec": {
      "name": "python3",
      "display_name": "Python 3"
    },
    "accelerator": "GPU"
  },
  "cells": [
    {
      "cell_type": "markdown",
      "metadata": {
        "id": "jjvWqXtrFy9H"
      },
      "source": [
        "# What is a TENSOR ?"
      ]
    },
    {
      "cell_type": "markdown",
      "metadata": {
        "id": "jjOMolD7F8nH"
      },
      "source": [
        "- In mathematics, a tensor is an algebraic object that describes a relationship between sets of algebraic objects related to a vector space. Objects that tensors may map between include vector