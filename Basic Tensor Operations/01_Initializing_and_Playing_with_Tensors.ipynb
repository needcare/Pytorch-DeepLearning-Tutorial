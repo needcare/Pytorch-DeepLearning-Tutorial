{
  "nbformat": 4,
  "nbformat_minor": 0,
  "metadata": {
    "colab": {
      "name": "01 Initializing and Playing with Tensors.ipynb",
      "provenance": [],
      "collapsed_sections": [],
      "toc_visible": true
    },
    "kernelspec": {
      "name": "python3",
      "display_name": "Python 3"
    },
    "accelerator": "GPU"
  },
  "cells": [
    {
      "cell_type": "markdown",
      "metadata": {
        "id": "jjvWqXtrFy9H"
      },
      "source": [
        "# What is a TENSOR ?"
      ]
    },
    {
      "cell_type": "markdown",
      "metadata": {
        "id": "jjOMolD7F8nH"
      },
      "source": [
        "- In mathematics, a tensor is an algebraic object that describes a relationship between sets of algebraic objects related to a vector space. Objects that tensors may map between include vectors and scalars, and even other tensors.\r\n",
        "- Tensors are simply mathematical objects that can be used to describe physical properties, just like scalars and vectors. In fact tensors are merely a generalisation of scalars and vectors; a scalar is a zero rank tensor, and a vector is a first rank tensor."
      ]
    },
    {
      "cell_type": "markdown",
      "metadata": {
        "id": "RLex3VemGZrx"
      },
      "source": [
        "# How different is VECTOR from TENSOR ?"
      ]
    },
    {
      "cell_type": "markdown",
      "metadata": {
        "id": "BIrXFArFGe6A"
      },
      "source": [
        "- The tensor is a more