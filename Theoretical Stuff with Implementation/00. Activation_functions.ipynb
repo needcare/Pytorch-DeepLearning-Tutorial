
{
  "nbformat": 4,
  "nbformat_minor": 0,
  "metadata": {
    "colab": {
      "name": "Activation functions.ipynb",
      "provenance": [],
      "collapsed_sections": [],
      "toc_visible": true
    },
    "kernelspec": {
      "name": "python3",
      "display_name": "Python 3"
    },
    "accelerator": "GPU"
  },
  "cells": [
    {
      "cell_type": "markdown",
      "metadata": {
        "id": "1AagvNb4bZsT"
      },
      "source": [
        "# Activation Functions in Neural Networks"
      ]
    },
    {
      "cell_type": "markdown",
      "metadata": {
        "id": "MCLIHVaippje"
      },
      "source": [
        "## What is an Activation Function ?\n",
        "- Activation function is basically a reason for Activating/Trigerring or Deactivating a Neuron in a Neural Network(NN).\n",
        "- Activation function takes in sets of inputs and performs some operations on the input and converts it accordingly and gives it as an output.\n",
        "- <img src=\"https://editor.analyticsvidhya.com/uploads/37914Screenshot%20(45).png\"  width=\"600\" height=\"400\">\n",
        "- **Explanation:**\n",
        " - *W1,W2,W3...* are the weights that we initialize or can be the updated weights, *X1,X2,X3...* are the inputs that come into the neuron.\n",
        " - A Neuron can be divided into two equal parts.\n",
        " - Basically there will always be a dot product happening between the weights and input in the first half and can be denoted by *Z*.\n",
        " - Now in the second half this *Z* is being passed into the Activation Function denoted by *Alpha* in the above picture, and its output is being used as an input in the next layer.\n",
        " - Let us see some of the mostly used activation functions."
      ]
    },
    {
      "cell_type": "markdown",
      "metadata": {
        "id": "7AyiX6sJ0oNK"
      },
      "source": [
        "## List of Mostly Used Activation Functions\n",
        "- **1. Linear**\n",
        "- **2. Identity**\n",
        "- **3. Binary step(Heaviside Function)**\n",
        "- **4. Signum**\n",
        "- **5. ReLU (Rectified Linear Unit)**\n",
        "- **6. PReLU (Parametric Rectified Linear Unit)**\n",
        "- **7. LeakyReLU**\n",
        "- **8. ELU (Exponential Linear Unit)**\n",
        "- **9. Sigmoid**\n",
        "- **10. Tanh**\n",
        "- **11. ArcTan**\n",
        "- **12. Swish**\n",
        "- **13. Softmax**\n",
        "- **14. SoftPlus**\n",
        "- **15. Sinusoid**"
      ]
    },
    {
      "cell_type": "markdown",
      "metadata": {
        "id": "9G-_TQTV6ptC"
      },
      "source": [
        "- Pretty Big list haa...Let us Explore them one by one and try to visualize them through their behaviour to different set of values. Also we will look at some maths behind it!"
      ]
    },
    {
      "cell_type": "code",
      "metadata": {
        "id": "nMqI8GMlnC7t"
      },
      "source": [
        "# Importing Packages that visualize our data and its respective transformations\n",
        "import numpy as np\n",
        "import pandas as pd\n",
        "import matplotlib.pyplot as plt\n",
        "import seaborn"
      ],
      "execution_count": null,
      "outputs": []
    },
    {
      "cell_type": "markdown",
      "metadata": {
        "id": "z6xmmcoRrMy0"
      },
      "source": [
        "### **1) LINEAR ACTIVATION FUNCTION:**\n",
        "- It is also a line of form **y=mx** where **m** can take a value other than 1.\n",
        "- It can definitely have a slope higher or lesser than 1.\n",
        "- **Identity Function** is a special case of Linear function.\n",
        "- **Range=(-inf,+inf)**\n",
        "- <img src=\"https://miro.medium.com/max/443/1*tZJTs6iarNojyzpyG_n14g.png\"  width=\"350\" height=\"250\">\n",
        "- Slope **M** can take any value.\n",
        "- Let us understand it with a simple example.\n"
      ]
    },
    {
      "cell_type": "code",
      "metadata": {
        "id": "HwN9VDehsFaq"
      },
      "source": [
        "X=list(range(-20,20))"
      ],
      "execution_count": null,
      "outputs": []
    },
    {
      "cell_type": "code",
      "metadata": {
        "id": "zNEWUo3FrMRh"
      },
      "source": [
        "# Defining a Linear function with different slopes parameter.\n",
        "def Linear_function(X, slope):\n",
        "  return X*slope"
      ],
      "execution_count": null,
      "outputs": []
    },
    {
      "cell_type": "code",
      "metadata": {
        "colab": {
          "base_uri": "https://localhost:8080/",
          "height": 298
        },
        "id": "sZpQuTYWrIi3",
        "outputId": "efd5623a-87e0-4ed7-b178-e13f237feb05"
      },
      "source": [
        "X=list(range(-20,20))\n",
        "fig = plt.figure(figsize=(10,10))\n",
        "fig, axs = plt.subplots(2,2, sharex=True, sharey=True)\n",
        "axs[0,0].plot(X,[Linear_function(i,0.1) for i in X]) # A linear Line with slope m=0.2\n",
        "axs[0,1].plot(X,[Linear_function(i,0.4) for i in X]) # A linear line with slope m=0.4\n",
        "axs[1,0].plot(X,[Linear_function(i,0.6) for i in X]) # A linear line with slope m=0.6\n",
        "axs[1,1].plot(X,[Linear_function(i,0.8) for i in X]) # A linear line with slope m=0.8"
      ],
      "execution_count": null,
      "outputs": [
        {
          "output_type": "execute_result",
          "data": {
            "text/plain": [
              "[<matplotlib.lines.Line2D at 0x7fd70b4cee10>]"
            ]
          },
          "metadata": {
            "tags": []
          },
          "execution_count": 18
        },
        {
          "output_type": "display_data",
          "data": {
            "text/plain": [
              "<Figure size 720x720 with 0 Axes>"
            ]
          },
          "metadata": {
            "tags": []
          }
        },
        {
          "output_type": "display_data",
          "data": {
            "image/png": "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\n",
            "text/plain": [
              "<Figure size 432x288 with 4 Axes>"
            ]
          },
          "metadata": {
            "tags": [],
            "needs_background": "light"
          }
        }
      ]
    },
    {
      "cell_type": "markdown",
      "metadata": {
        "id": "04iOOM9_tE9e"
      },
      "source": [
        "- These all are linear lines with different Slopes."
      ]
    },
    {
      "cell_type": "markdown",
      "metadata": {
        "id": "hoj7uLcn67xK"
      },
      "source": [
        "### **2) IDENTITY ACTIVATION FUNCTION:**\n",
        "- It is a function definied as **f(x)=x**.\n",
        "  - It is a linear function with no constant where the slope is 1. It can be compared to y=mx (c=0), where y is the output of the function and m is slope of 1 making it y=x.\n",
        "  - **Range=(-inf,+inf)**\n",
        " - <img src=\"https://miro.medium.com/max/4362/1*FazlBgIgX3F5esU9l2uk5g.png\"  width=\"350\" height=\"250\"> \n",
        "  - Just changing the degree of **X** we can see how the properties of the functions change as well.\n",
        "  - Let us understand it with an example."
      ]
    },
    {
      "cell_type": "code",
      "metadata": {
        "id": "Nzfs0adyWS03"
      },
      "source": [
        "# Defining Functions.\n",
        "\n",
        "# Constant function.\n",
        "def constant_function(x):\n",
        "  # Defining a constant.\n",
        "  constant = 1\n",
        "  x=constant\n",
        "  return constant\n",
        "\n",
        "# Identity Function.\n",
        "def Identity_function(x):\n",
        "  slope = 1\n",
        "  return x*slope\n",
        "\n",
        "# Squaring Function.\n",
        "def Squaring_function(x):\n",
        "  return x**2\n",
        "\n",
        "# Cubic Function.\n",
        "def Cubic_function(x):\n",
        "  return x**3"
      ],
      "execution_count": null,
      "outputs": []
    },
    {
      "cell_type": "code",
      "metadata": {
        "colab": {
          "base_uri": "https://localhost:8080/",
          "height": 284
        },
        "id": "0E7bANfsWS7x",
        "outputId": "f71cd3d7-5858-4a1f-98a0-db7c03aae993"
      },
      "source": [
        "fig = plt.figure(figsize=(10,10));\n",
        "fig, axs = plt.subplots(2,2, sharex=False, sharey=False);\n",
        "axs[0,0].plot(X,[constant_function(i) for i in X]);\n",
        "axs[0,1].plot(X,[Identity_function(i) for i in X]);\n",
        "axs[1,0].plot(X,[Squaring_function(i) for i in X]);\n",
        "axs[1,1].plot(X,[Cubic_function(i) for i in X]);"
      ],
      "execution_count": null,
      "outputs": [
        {
          "output_type": "display_data",
          "data": {
            "text/plain": [
              "<Figure size 720x720 with 0 Axes>"
            ]
          },
          "metadata": {
            "tags": []
          }
        },
        {
          "output_type": "display_data",
          "data": {
            "image/png": "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\n",
            "text/plain": [
              "<Figure size 432x288 with 4 Axes>"
            ]
          },
          "metadata": {
            "tags": [],
            "needs_background": "light"
          }
        }
      ]
    },
    {
      "cell_type": "markdown",
      "metadata": {
        "id": "7YMNI7GwoqdF"
      },
      "source": [
        "- Pretty Much clear about how they work. Lets move on to the next one.\n"
      ]
    },
    {
      "cell_type": "markdown",
      "metadata": {
        "id": "TkCndhkpxbFj"
      },
      "source": [
        "### **3) BINARY STEP OR HEAVISIDE ACTIVATION FUNCTION:**\n",
        "- It is a Step function where it is piece wise continuous and has finite number of values as its output values.\n",
        "- It is a function which gives 0 as an input when input is less than zero and gives 1 as an output when input is greater than or equal to zero.\n",
        "- **Range={0,1}**\n",
        "- <img src=\"https://miro.medium.com/max/1646/1*pmFsxtfiFoo09rXLaKyrOg.png\"  width=\"450\" height=\"250\">\n",
        "- Let us see its implementation."
      ]
    },
    {
      "cell_type": "code",
      "metadata": {
        "id": "kDMmx9GfWS_L"
      },
      "source": [
        "# Binary step implementation.\n",
        "def Binary_step(x):\n",
        "  if x>=0:\n",
        "    return 1\n",
        "  else:\n",
        "    return 0\n"
      ],
      "execution_count": null,
      "outputs": []
    },
    {
      "cell_type": "code",
      "metadata": {
        "colab": {
          "base_uri": "https://localhost:8080/",
          "height": 281
        },
        "id": "ZRpDMhkUWTCu",
        "outputId": "1979864a-2453-4194-dd4a-b9958bac7b2a"
      },
      "source": [
        "fig = plt.figure(figsize=(5,4))\n",
        "plt.plot(X,[Binary_step(i) for i in X])\n",
        "plt.title('Binary step function');"
      ],
      "execution_count": null,
      "outputs": [
        {
          "output_type": "display_data",
          "data": {
            "image/png": "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\n",
            "text/plain": [
              "<Figure size 360x288 with 1 Axes>"
            ]
          },
          "metadata": {
            "tags": [],
            "needs_background": "light"
          }
        }
      ]
    },
    {
      "cell_type": "markdown",
      "metadata": {
        "id": "bORcTtouzUxM"
      },
      "source": [
        "### **4) SIGNUM ACTIVATION FUNCTION:**\n",
        "- Another step function which returns +1 as an output when input is greater than or equal to zero and return -1 as an output when input is less than zero.\n",
        "- **Range={-1,1}**\n",
        "- <img src=\"https://bulyaki.files.wordpress.com/2013/02/signum_graph.png\"  width=\"400\" height=\"200\">\n",
        "- Let us look at its implementation."
      ]
    },
    {
      "cell_type": "code",
      "metadata": {
        "id": "ljfU60I1WTFW"
      },
      "source": [
        "# Custom function for signum activation function\n",
        "def Signum_function(x):\n",
        "  if x>=0:\n",
        "    return 1\n",
        "  else:\n",
        "    return -1"
      ],
      "execution_count": null,
      "outputs": []
    },