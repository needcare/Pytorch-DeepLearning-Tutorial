
{
  "nbformat": 4,
  "nbformat_minor": 0,
  "metadata": {
    "colab": {
      "name": "03 Tensor indexing and reshaping.ipynb",
      "provenance": [],
      "collapsed_sections": [],
      "toc_visible": true
    },
    "kernelspec": {
      "name": "python3",
      "display_name": "Python 3"
    },
    "accelerator": "GPU"
  },
  "cells": [
    {
      "cell_type": "markdown",
      "metadata": {
        "id": "QN_EMVkWQG9G"
      },
      "source": [
        "# Importing PyTorch"
      ]
    },
    {
      "cell_type": "code",
      "metadata": {
        "id": "A_7CPDakQGOJ"
      },
      "source": [
        "import torch"
      ],
      "execution_count": 1,
      "outputs": []
    },
    {
      "cell_type": "markdown",
      "metadata": {
        "id": "FnCkRioaLr5u"
      },
      "source": [
        "# Tensor Indexing"
      ]
    },
    {
      "cell_type": "code",
      "metadata": {
        "id": "tdKNbXiAATxe"
      },
      "source": [
        "# Declaring 10 tensors at a time with each tensor being 1*10 shape.\n",
        "batch_size  = 10\n",
        "tensor_batch = torch.rand(10,10,1)"
      ],
      "execution_count": null,
      "outputs": []
    },
    {
      "cell_type": "code",
      "metadata": {
        "colab": {
          "base_uri": "https://localhost:8080/"
        },
        "id": "KZ0vqK-EAT2h",
        "outputId": "21e26f76-0367-42aa-d3b4-d337da7b1c89"
      },
      "source": [
        "tensor_batch.shape"
      ],
      "execution_count": null,
      "outputs": [
        {
          "output_type": "execute_result",
          "data": {
            "text/plain": [
              "torch.Size([10, 10, 1])"
            ]
          },
          "metadata": {
            "tags": []
          },
          "execution_count": 79
        }
      ]
    },
    {
      "cell_type": "markdown",
      "metadata": {
        "id": "dd_f68BsSin1"
      },
      "source": [
        "## Basic Indexing"
      ]
    },
    {
      "cell_type": "markdown",
      "metadata": {
        "id": "aIzTrU3qMcJ3"
      },
      "source": [
        "- Picking up first tensor."
      ]
    },
    {
      "cell_type": "code",
      "metadata": {
        "colab": {
          "base_uri": "https://localhost:8080/"
        },
        "id": "IlmAjukSAT7L",
        "outputId": "5066dc72-8f62-479e-86fe-7ee5f88ea908"
      },
      "source": [
        "tensor_batch[0]"
      ],
      "execution_count": null,
      "outputs": [
        {
          "output_type": "execute_result",
          "data": {
            "text/plain": [
              "tensor([[0.9973],\n",
              "        [0.6209],\n",
              "        [0.7938],\n",
              "        [0.2927],\n",
              "        [0.8947],\n",
              "        [0.8071],\n",
              "        [0.4581],\n",
              "        [0.9098],\n",
              "        [0.6260],\n",
              "        [0.7411]])"
            ]
          },
          "metadata": {
            "tags": []
          },
          "execution_count": 80
        }
      ]
    },
    {
      "cell_type": "markdown",
      "metadata": {
        "id": "z2L6ZMbLMjjb"
      },
      "source": [
        "- Picking up second tensor."
      ]
    },
    {
      "cell_type": "code",
      "metadata": {
        "colab": {
          "base_uri": "https://localhost:8080/"
        },
        "id": "k1y4g-Q9AT-2",
        "outputId": "af81a8f9-e4a4-49d2-90e8-b64fcd957262"
      },
      "source": [
        "tensor_batch[1]"
      ],
      "execution_count": null,
      "outputs": [
        {
          "output_type": "execute_result",
          "data": {
            "text/plain": [
              "tensor([[0.0818],\n",
              "        [0.3850],\n",
              "        [0.8719],\n",
              "        [0.8685],\n",
              "        [0.7441],\n",
              "        [0.0409],\n",
              "        [0.8789],\n",
              "        [0.9979],\n",
              "        [0.9880],\n",
              "        [0.4926]])"
            ]
          },
          "metadata": {
            "tags": []
          },
          "execution_count": 81
        }
      ]
    },
    {
      "cell_type": "markdown",
      "metadata": {
        "id": "aZolN6J-MqLB"
      },
      "source": [
        "- Picking first 3 tensors."
      ]
    },
    {
      "cell_type": "code",
      "metadata": {
        "colab": {
          "base_uri": "https://localhost:8080/"
        },
        "id": "Cou7gv0IAUCB",
        "outputId": "51ddcd85-b6ae-4461-81a5-a7d186c5dbd3"
      },
      "source": [
        "tensor_batch[0:3]"
      ],
      "execution_count": null,
      "outputs": [
        {
          "output_type": "execute_result",
          "data": {
            "text/plain": [
              "tensor([[[0.9973],\n",
              "         [0.6209],\n",
              "         [0.7938],\n",
              "         [0.2927],\n",
              "         [0.8947],\n",
              "         [0.8071],\n",
              "         [0.4581],\n",
              "         [0.9098],\n",
              "         [0.6260],\n",
              "         [0.7411]],\n",
              "\n",
              "        [[0.0818],\n",
              "         [0.3850],\n",
              "         [0.8719],\n",
              "         [0.8685],\n",
              "         [0.7441],\n",
              "         [0.0409],\n",
              "         [0.8789],\n",
              "         [0.9979],\n",
              "         [0.9880],\n",
              "         [0.4926]],\n",
              "\n",
              "        [[0.3499],\n",
              "         [0.2576],\n",
              "         [0.5023],\n",
              "         [0.3563],\n",
              "         [0.4616],\n",
              "         [0.8081],\n",
              "         [0.0333],\n",
              "         [0.1976],\n",
              "         [0.8805],\n",
              "         [0.9242]]])"
            ]
          },
          "metadata": {
            "tags": []
          },
          "execution_count": 82
        }
      ]
    },
    {
      "cell_type": "markdown",
      "metadata": {
        "id": "CfFPTNtEXHdr"
      },
      "source": [
        "- Getting first three elements of all tensors in the batch"
      ]
    },
    {
      "cell_type": "code",
      "metadata": {
        "colab": {
          "base_uri": "https://localhost:8080/"
        },
        "id": "OMp70G3WAUE4",
        "outputId": "b1aaf1ae-c574-4b21-a7fc-4c938f9b46ca"
      },
      "source": [
        "tensor_batch[:,0:3]"
      ],
      "execution_count": null,
      "outputs": [
        {
          "output_type": "execute_result",
          "data": {
            "text/plain": [
              "tensor([[[0.9973],\n",
              "         [0.6209],\n",
              "         [0.7938]],\n",
              "\n",
              "        [[0.0818],\n",
              "         [0.3850],\n",
              "         [0.8719]],\n",
              "\n",
              "        [[0.3499],\n",
              "         [0.2576],\n",
              "         [0.5023]],\n",
              "\n",
              "        [[0.1930],\n",
              "         [0.0848],\n",
              "         [0.6464]],\n",
              "\n",
              "        [[0.1258],\n",
              "         [0.7163],\n",
              "         [0.8157]],\n",
              "\n",
              "        [[0.6659],\n",
              "         [0.7845],\n",
              "         [0.6112]],\n",
              "\n",
              "        [[0.9918],\n",
              "         [0.6093],\n",
              "         [0.7552]],\n",
              "\n",
              "        [[0.7000],\n",
              "         [0.8483],\n",
              "         [0.2938]],\n",
              "\n",
              "        [[0.9124],\n",
              "         [0.1357],\n",
              "         [0.6674]],\n",
              "\n",
              "        [[0.4488],\n",
              "         [0.3542],\n",
              "         [0.8706]]])"
            ]
          },
          "metadata": {
            "tags": []
          },
          "execution_count": 84
        }
      ]
    },
    {
      "cell_type": "markdown",
      "metadata": {
        "id": "kDYBMTaXXMhx"
      },
      "source": [
        "- first 3 elements of first three tensors "
      ]
    },
    {
      "cell_type": "code",
      "metadata": {
        "colab": {
          "base_uri": "https://localhost:8080/"
        },
        "id": "aGbvhWmgAUHP",
        "outputId": "1de781a2-a608-45b0-ab5f-a019b7568a57"
      },
      "source": [
        "tensor_batch[0:3,0:3]"
      ],
      "execution_count": null,
      "outputs": [
        {
          "output_type": "execute_result",
          "data": {
            "text/plain": [
              "tensor([[[0.9973],\n",
              "         [0.6209],\n",
              "         [0.7938]],\n",
              "\n",
              "        [[0.0818],\n",
              "         [0.3850],\n",
              "         [0.8719]],\n",
              "\n",
              "        [[0.3499],\n",
              "         [0.2576],\n",
              "         [0.5023]]])"
            ]
          },
          "metadata": {
            "tags": []
          },
          "execution_count": 85
        }
      ]
    },
    {
      "cell_type": "markdown",
      "metadata": {
        "id": "P91bEEiwXlOK"
      },
      "source": [
        "- Let us move to some more indexing options."
      ]
    },
    {
      "cell_type": "code",
      "metadata": {
        "id": "8cSijN0mAUJl"
      },
      "source": [
        "x_tensor = torch.arange(0,9,1)"
      ],
      "execution_count": null,
      "outputs": []
    },
    {
      "cell_type": "code",
      "metadata": {
        "colab": {
          "base_uri": "https://localhost:8080/"
        },
        "id": "knO6252YAUMM",
        "outputId": "812382e5-fc87-4db5-d8f9-826078a5677f"
      },
      "source": [
        "x_tensor"
      ],
      "execution_count": null,
      "outputs": [
        {
          "output_type": "execute_result",
          "data": {
            "text/plain": [
              "tensor([0, 1, 2, 3, 4, 5, 6, 7, 8])"
            ]
          },
          "metadata": {
            "tags": []
          },
          "execution_count": 87
        }
      ]
    },
    {
      "cell_type": "markdown",
      "metadata": {
        "id": "zKKJlJ2zX4r5"
      },
      "source": [
        "we will take out elements from tensor for specific indexes only."
      ]
    },
    {
      "cell_type": "code",
      "metadata": {
        "id": "5Wbl5l6_AUOJ"
      },
      "source": [
        "indices_list = [1,3,4,7]"
      ],
      "execution_count": null,
      "outputs": []
    },
    {
      "cell_type": "code",
      "metadata": {
        "colab": {
          "base_uri": "https://localhost:8080/"
        },
        "id": "ST9JhwZ0AURV",
        "outputId": "cf70932a-09b1-4ec5-b19b-c7597eea7e08"
      },
      "source": [
        "# Elements at given indices.\n",
        "x_tensor[indices_list]"
      ],
      "execution_count": null,
      "outputs": [
        {
          "output_type": "execute_result",
          "data": {
            "text/plain": [
              "tensor([1, 3, 4, 7])"
            ]
          },
          "metadata": {
            "tags": []
          },
          "execution_count": 89
        }
      ]
    },
    {
      "cell_type": "markdown",
      "metadata": {
        "id": "2JgpJStMYbhy"
      },
      "source": [
        "## Indexing through **Matrices**."
      ]
    },
    {
      "cell_type": "code",
      "metadata": {
        "id": "JJTJNNETAUUU"
      },
      "source": [
        "matrixA = torch.tensor([[1,2,3,4,5],[6,7,8,9,10],[11,12,13,14,15],[16,17,18,19,20]])"
      ],
      "execution_count": null,
      "outputs": []
    },
    {
      "cell_type": "code",
      "metadata": {
        "colab": {
          "base_uri": "https://localhost:8080/"
        },
        "id": "4kUo_sdMAUW8",
        "outputId": "b2018e99-a54b-45f3-fb32-148feb827a12"
      },
      "source": [
        "matrixA"
      ],
      "execution_count": null,
      "outputs": [
        {
          "output_type": "execute_result",
          "data": {
            "text/plain": [
              "tensor([[ 1,  2,  3,  4,  5],\n",
              "        [ 6,  7,  8,  9, 10],\n",
              "        [11, 12, 13, 14, 15],\n",
              "        [16, 17, 18, 19, 20]])"
            ]
          },
          "metadata": {
            "tags": []
          },
          "execution_count": 93
        }
      ]
    },
    {
      "cell_type": "code",
      "metadata": {
        "id": "GZb3CYr0AUaH"
      },
      "source": [
        "# Selecting rows and columns that we need.\n",
        "selected_rows = [0,2]\n",
        "selected_cols = [1,3]"
      ],
      "execution_count": null,
      "outputs": []
    },
    {
      "cell_type": "code",
      "metadata": {
        "colab": {
          "base_uri": "https://localhost:8080/"
        },
        "id": "RJzsqI4nAUes",
        "outputId": "b0d6628f-67fd-4da9-fd25-9084fa8c742e"
      },
      "source": [
        "# Result of matrix after indexing.\n",
        "matrixA[selected_rows,selected_cols]"
      ],
      "execution_count": null,
      "outputs": [
        {
          "output_type": "execute_result",
          "data": {
            "text/plain": [
              "tensor([ 2, 14])"
            ]
          },
          "metadata": {
            "tags": []
          },
          "execution_count": 106
        }
      ]
    },
    {
      "cell_type": "markdown",
      "metadata": {
        "id": "EdiXGu5RRryh"
      },
      "source": [
        "## More Indexing using **Mixed Comparision Operators.**"
      ]
    },
    {
      "cell_type": "code",
      "metadata": {
        "id": "76Eh79UBAUgU"
      },
      "source": [
        "a_tensor = torch.arange(1,10)"
      ],
      "execution_count": 4,
      "outputs": []
    },
    {
      "cell_type": "code",
      "metadata": {
        "id": "yfK4RmNmAUp1",
        "colab": {
          "base_uri": "https://localhost:8080/"
        },
        "outputId": "2b9419ac-025d-4486-eb2d-df623825f7de"
      },
      "source": [
        "a_tensor"
      ],
      "execution_count": 5,
      "outputs": [
        {
          "output_type": "execute_result",
          "data": {
            "text/plain": [
              "tensor([1, 2, 3, 4, 5, 6, 7, 8, 9])"
            ]
          },
          "metadata": {
            "tags": []
          },
          "execution_count": 5
        }
      ]
    },
    {
      "cell_type": "code",
      "metadata": {
        "id": "AqsnY1ntAUse",
        "colab": {
          "base_uri": "https://localhost:8080/"
        },
        "outputId": "8948f37f-618a-43b6-d3ac-1e39c7e14841"
      },
      "source": [
        "a_tensor>2\n",
        "# Returns Boolean Values only according to our condition"
      ],
      "execution_count": 8,
      "outputs": [
        {
          "output_type": "execute_result",
          "data": {
            "text/plain": [
              "tensor([False, False,  True,  True,  True,  True,  True,  True,  True])"
            ]
          },
          "metadata": {
            "tags": []
          },
          "execution_count": 8
        }
      ]
    },
    {
      "cell_type": "code",
      "metadata": {
        "id": "lsBgLWcAAUxm",
        "colab": {
          "base_uri": "https://localhost:8080/"
        },
        "outputId": "a349488c-e34d-42a6-c3eb-c14558b03b0f"
      },
      "source": [
        "a_tensor[a_tensor>2]\n",
        "# Returns values according to our condition."
      ],
      "execution_count": 7,
      "outputs": [
        {
          "output_type": "execute_result",
          "data": {
            "text/plain": [
              "tensor([3, 4, 5, 6, 7, 8, 9])"
            ]
          },
          "metadata": {
            "tags": []
          },
          "execution_count": 7
        }
      ]
    },
    {
      "cell_type": "markdown",
      "metadata": {
        "id": "QiCQfGkgTJg0"
      },
      "source": [
        "- Some more indexing...."
      ]
    },
    {
      "cell_type": "code",
      "metadata": {
        "id": "t1ChLwAcAU0T",
        "colab": {
          "base_uri": "https://localhost:8080/"
        },
        "outputId": "a1c1f1eb-9fca-4ec6-aa0a-4ea4fc8d6b95"
      },
      "source": [
        "a_tensor[(a_tensor>2) | (a_tensor>7)]\n",
        "# OR operator."
      ],
      "execution_count": 10,
      "outputs": [
        {
          "output_type": "execute_result",
          "data": {
            "text/plain": [
              "tensor([3, 4, 5, 6, 7, 8, 9])"
            ]
          },
          "metadata": {
            "tags": []
          },
          "execution_count": 10
        }
      ]
    },
    {
      "cell_type": "code",
      "metadata": {
        "id": "pAZDA0OzAU26",
        "colab": {
          "base_uri": "https://localhost:8080/"
        },
        "outputId": "1263da76-9875-4c55-ed1a-00e150b444fc"
      },
      "source": [
        "a_tensor[(a_tensor>2) & (a_tensor>7)]\n",
        "# AND operator."
      ],
      "execution_count": 11,
      "outputs": [
        {
          "output_type": "execute_result",
          "data": {
            "text/plain": [
              "tensor([8, 9])"
            ]
          },
          "metadata": {
            "tags": []
          },
          "execution_count": 11
        }
      ]