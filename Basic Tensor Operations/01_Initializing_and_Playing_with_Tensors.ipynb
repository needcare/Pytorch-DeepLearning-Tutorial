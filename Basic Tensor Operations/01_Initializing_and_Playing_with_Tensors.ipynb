{
  "nbformat": 4,
  "nbformat_minor": 0,
  "metadata": {
    "colab": {
      "name": "01 Initializing and Playing with Tensors.ipynb",
      "provenance": [],
      "collapsed_sections": [],
      "toc_visible": true
    },
    "kernelspec": {
      "name": "python3",
      "display_name": "Python 3"
    },
    "accelerator": "GPU"
  },
  "cells": [
    {
      "cell_type": "markdown",
      "metadata": {
        "id": "jjvWqXtrFy9H"
      },
      "source": [
        "# What is a TENSOR ?"
      ]
    },
    {
      "cell_type": "markdown",
      "metadata": {
        "id": "jjOMolD7F8nH"
      },
      "source": [
        "- In mathematics, a tensor is an algebraic object that describes a relationship between sets of algebraic objects related to a vector space. Objects that tensors may map between include vectors and scalars, and even other tensors.\r\n",
        "- Tensors are simply mathematical objects that can be used to describe physical properties, just like scalars and vectors. In fact tensors are merely a generalisation of scalars and vectors; a scalar is a zero rank tensor, and a vector is a first rank tensor."
      ]
    },
    {
      "cell_type": "markdown",
      "metadata": {
        "id": "RLex3VemGZrx"
      },
      "source": [
        "# How different is VECTOR from TENSOR ?"
      ]
    },
    {
      "cell_type": "markdown",
      "metadata": {
        "id": "BIrXFArFGe6A"
      },
      "source": [
        "- The tensor is a more generalized form of scalar and vector. Or, the scalar, vector are the special cases of tensor. If a tensor has only magnitude and no direction (i.e., rank 0 tensor), then it is called scalar. If a tensor has magnitude and one direction (i.e., rank 1 tensor), then it is called vector."
      ]
    },
    {
      "cell_type": "markdown",
      "metadata": {
        "id": "S9fEojkVuYLX"
      },
      "source": [
        "# Installing Pytorch"
      ]
    },
    {
      "cell_type": "code",
      "metadata": {
        "colab": {
          "base_uri": "https://localhost:8080/"
        },
        "id": "c91Eb7iSsBI5",
        "outputId": "eb3c03d9-a0f4-46d6-8d8b-f3096a181534"
      },
      "source": [
        "!pip install torch torchvision"
      ],
      "execution_count": 1,
      "outputs": [
        {
          "output_type": "stream",
          "text": [
            "Requirement already satisfied: torch in /usr/local/lib/python3.7/dist-packages (1.8.0+cu101)\n",
            "Requirement already satisfied: torchvision in /usr/local/lib/python3.7/dist-packages (0.9.0+cu101)\n",
            "Requirement already satisfied: numpy in /usr/local/lib/python3.7/dist-packages (from torch) (1.19.5)\n",
            "Requirement already satisfied: typing-extensions in /usr/local/lib/python3.7/dist-packages (from torch) (3.7.4.3)\n",
            "Requirement already satisfied: pillow>=4.1.1 in /usr/local/lib/python3.7/dist-packages (from torchvision) (7.0.0)\n"
          ],
          "name": "stdout"
        }
      ]
    },
    {
      "cell_type": "markdown",
      "metadata": {
        "id": "01Di99NQudzc"
      },
      "source": [
        "# Initializing the Tensors and its Attributes"
      ]
    },
    {
      "cell_type": "code",
      "metadata": {
        "id": "FIHrYQ9OtBtr"
      },
      "source": [
        "import torch"
      ],
      "execution_count": 2,
      "outputs": []
    },
    {
      "cell_type": "code",
      "metadata": {
        "id": "ZPr2jb8zuj3R"
      },
      "source": [
        "# Initializing a tensor.\r\n",
        "# Setting device type to 'cuda', if not set then it will go with 'cpu' by default.\r\n",
        "# Setting datatype to float32.\r\n",
        "\r\n",
        "my_tensor=torch.tensor([[1,3,4],[2,4,5]],dtype=torch.float32, device='cuda')"
      ],
      "execution_count": null,
      "outputs": []
    },
    {
      "cell_type": "code",
      "metadata": {
        "colab": {
          "base_uri": "https://localhost:8080/"
        },
        "id": "gt_REg1nuqWu",
        "outputId": "b3242ad6-1863-4df1-af79-2fd31a9493bb"
      },
      "source": [
        "my_tensor"
      ],
      "execution_count": null,
      "outputs": [
        {
          "output_type": "execute_result",
          "data": {
            "text/plain": [
              "tensor([[1., 3., 4.],\n",
              "        [2., 4., 5.]], device='cuda:0')"
            ]
          },
          "metadata": {
            "tags": []
          },
          "execution_count": 4
        }
      ]
    },
    {
      "cell_type": "markdown",
      "metadata": {
        "id": "O_Z2KBI0JLZu"
      },
      "source": [
        "## Other Tensor Initialization techniques."
      ]
    },
    {
      "cell_type": "markdown",
      "metadata": {
        "id": "8CB_mpCtOnQl"
      },
      "source": [
        "- **torch.empty( )** Returns a tensor filled with uninitialized data. The shape of the tensor is defined by the variable argument size."
      ]
    },
    {
      "cell_type": "code",
      "metadata": {
        "id": "_DxS-Y8uute3"
      },
      "source": [
        "new_tensor = torch.empty(size=(2,3))"
      ],
      "execution_count": null,
      "outputs": []
    },
    {
      "cell_type": "code",
      "metadata": {
        "colab": {
          "base_uri": "https://localhost:8080/"
        },
        "id": "aMR77K9bJGEw",
        "outputId": "0f8b56e2-b63f-48bc-a49e-a37c9fc7c467"
      },
      "source": [
        "print(new_tensor)"
      ],
      "execution_count": null,
      "outputs": [
        {
          "output_type": "stream",
          "text": [
            "tensor([[-3.2374e-24,  3.0764e-41, -1.9940e+35],\n",
            "        [ 3.0764e-41, -3.2211e-24,  3.0764e-41]])\n"
          ],
          "name": "stdout"
        }
      ]
    },
    {
      "cell_type": "code",
      "metadata": {
        "id": "DbtIPbAmJGQv"
      },
      "source": [
        "new_tensor = torch.empty(size=(4,3))"
      ],
      "execution_count": null,
      "outputs": []
    },
    {
      "cell_type": "code",
      "metadata": {
        "colab": {
          "base_uri": "https://localhost:8080/"
        },
        "id": "zXr-HobKoUyx",
        "outputId": "7b51a5cc-3c33-4200-b2b3-d8ea9eea7542"
      },
      "source": [
        "new_tensor"
      ],
      "execution_count": null,
      "outputs": [
        {
          "output_type": "execute_result",
          "data": {
            "text/plain": [
              "tensor([[-7.7884e+37,  3.0764e-41,  3.3631e-44],\n",
              "        [ 0.0000e+00,         nan,  0.0000e+00],\n",
              "        [ 4.4721e+21,  1.5956e+25,  4.7399e+16],\n",
              "        [ 3.7293e-08,  1.4838e-41,  0.0000e+00]])"
            ]
          },
          "metadata": {
            "tags": []
          },
          "execution_count": 9
        }
      ]
    },
    {
      "cell_type": "markdown",
      "metadata": {
        "id": "-9ptrtjNodnd"
      },
      "source": [
        "- **torch.zeros( )** returns a tensor with zeros of prescribed shape."
      ]
    },
    {
      "cell_type": "code",
      "metadata": {
        "id": "yrJAXPHdoXCu"
      },
      "source": [
        "new_tensor = torch.zeros(size=(3,3))"
      ],
      "execution_count": null,
      "outputs": []
    },
    {
      "cell_type": "code",
      "metadata": {
        "colab": {
          "base_uri": "https://localhost:8080/"
        },
        "id": "-0MAwasmoZ71",
        "outputId": "a01c0df2-fe59-447a-e98c-cda6d557a0dd"
      },
      "source": [
        "new_tensor"
      ],
      "execution_count": null,
      "outputs": [
        {
          "output_type": "execute_result",
          "data": {
            "text/plain": [
              "tensor([[0., 0., 0.],\n",
              "        [0., 0., 0.],\n",
              "        [0., 0., 0.]])"
            ]
          },
          "metadata": {
            "tags": []
          },
          "execution_count": 11
        }
      ]
    },
    {
      "cell_type": "markdown",
      "metadata": {
        "id": "YgBN5N8io6yO"
      },
      "source": [
        "- **torch.rand( )** returns a tensor that contains a set of random numbers drawn from a uniform distribution in the interval [0,1). The shape is defined by the variable parameter sizes."
      ]
    },
    {
      "cell_type": "code",
      "metadata": {
        "id": "v6MkeXsCoaDN"
      },
      "source": [
        "new_tensor = torch.rand(size=(3,4))"
      ],
      "execution_count": null,
      "outputs": []
    },
    {
      "cell_type": "code",
      "metadata": {
        "colab": {
          "base_uri": "https://localhost:8080/"
        },
        "id": "kzNX9DqcoaKU",
        "outputId": "d599036a-1dec-4e5a-cec8-d2affa19c95d"
      },
      "source": [
        "new_tensor"
      ],
      "execution_count": null,
      "outputs": [
        {
          "output_type": "execute_result",
          "data": {
            "text/plain": [
              "tensor([[0.5880, 0.7131, 0.3825, 0.6020],\n",
              "        [0.4232, 0.6354, 0.2485, 0.0531],\n",
              "        [0.7695, 0.6156, 0.4987, 0.1733]])"
            ]
          },
          "metadata": {
            "tags": []
          },
          "execution_count": 13
        }
      ]
    },
    {
      "cell_type": "markdown",
      "metadata": {
        "id": "DNycj2S-pcjm"
      },
      "source": [
        "- **torch.randn( )** returns a tensor, which contains a set of random numbers drawn from a standard normal distribution (mean 0, variance 1, Gaussian white noise), the shape is defined by the variable parameter sizes ."
      ]
    },
    {
      "cell_type": "code",
      "metadata": {
        "id": "eF24Z3k2oaSB"
      },
      "source": [
        "new_tensor = torch.randn(size=(3,3))"
      ],
      "execution_count": null,
      "outputs": []
    },
    {
      "cell_type": "code",
      "metadata": {
        "colab": {
          "base_uri": "https://localhost:8080/"
        },
        "id": "OonTs8mfoaYu",
        "outputId": "4daf28aa-3c87-4b27-96a1-632ad653ed17"
      },
      "source": [
        "new_tensor"
      ],
      "execution_count": null,
      "outputs": [
        {
          "output_type": "execute_result",
          "data": {
            "text/plain": [
              "tensor([[ 0.2382,  1.7844,  0.0368],\n",
              "        [ 0.6544, -0.7989, -0.8466],\n",
              "        [-1.1326, -0.3392,  0.1645]])"
            ]
          },
          "metadata": {
            "tags": []
          },
          "execution_count": 19
        }
      ]
    },
    {
      "cell_type": "code",
      "metadata": {
        "colab": {
          "base_uri": "https://localhost:8080/"
        },
        "id": "v3pAAphqoahV",
        "outputId": "43bebf28-cfa5-4f7c-a11d-3f30a4dbd951"
      },
      "source": [
        "# Variance of nearly one.\r\n",
        "new_tensor.var()"
      ],
      "execution_count": null,
      "outputs": [
        {
          "output_type": "execute_result",
          "data": {
            "text/plain": [
              "tensor(0.8055)"
            ]
          },
          "metadata": {
            "tags": []
          },
          "execution_count": 20
        }
      ]
    },
    {
      "cell_type": "code",
      "metadata": {
        "colab": {
          "base_uri": "https://localhost:8080/"
        },
        "id": "vDW_s780oatf",
        "outputId": "7fba63f8-5532-48df-b040-0f12ce12a5e9"
      },
      "source": [
        "# Mean of nearly zero\r\n",
        "new_tensor.mean()"
      ],
      "execution_count": null,
      "outputs": [
        {
          "output_type": "execute_result",
          "data": {
            "text/plain": [
              "tensor(-0.0265)"
            ]
          },
          "metadata": {
            "tags": []
          },
          "execution_count": 21
        }
      ]
    },
    {
      "cell_type": "markdown",
      "metadata": {
        "id": "8VGVlDzEq2Pw"
      },
      "source": [
        "- **torch.ones( )** returns a tensor with ones."
      ]
    },
    {
      "cell_type": "code",
      "metadata": {
        "id": "oK8V9YI1obfg"
      },
      "source": [
        "new_tensor = torch.ones(size=(3,3))"
      ],
      "execution_count": null,
      "outputs": []
    },
    {
      "cell_type": "code",
      "metadata": {
        "colab": {
          "base_uri": "https://localhost:8080/"
        },
        "id": "y-zYgt5FoclS",
        "outputId": "3c4a80e5-296d-482d-9ac2-12c21da0a18d"
      },
      "source": [
        "new_tensor"
      ],
      "execution_count": null,
      "outputs": [
        {
          "output_type": "execute_result",
          "data": {
            "text/plain": [
              "tensor([[1., 1., 1.],\n",
              "        [1., 1., 1.],\n",
              "        [1., 1., 1.]])"
            ]
          },
          "metadata": {
            "tags": []
          },
          "execution_count": 23
        }
      ]
    },
    {
      "cell_type": "markdown",
      "metadata": {
        "id": "o2-c-mzcrH13"
      },
      "source": [
        "- **torch.eye( )** returns an Identity Matrix or tensor."
      ]
    },
    {
      "cell_type": "code",
      "metadata": {
        "id": "eqoKReQorDER"
      },
      "source": [
        "# 'n' being number of rows and 'm' being number of columns.\r\n",
        "new_tensor = torch.eye(n=3,m=3)"
      ],
      "execution_count": null,
      "outputs": []
    },
    {
      "cell_type": "code",
      "metadata": {
        "colab": {
          "base_uri": "https://localhost:8080/"
        },
        "id": "aqa2vFD5rfxr",
        "outputId": "6e87faa7-6968-41bb-cfb4-9a757640d18a"
      },
      "source": [
        "new_tensor"
      ],
      "execution_count": null,
      "outputs": [
        {
          "output_type": "execute_result",
          "data": {
            "text/plain": [
              "tensor([[1., 0., 0.],\n",
              "        [0., 1., 0.],\n",
              "        [0., 0., 1.]])"
            ]
          },
          "metadata": {
            "tags": []
          },
          "execution_count": 27
        }
      ]
    },
    {
      "cell_type": "code",
      "metadata": {
        "id": "8YYarQ-Grvlz"
      },
      "source": [
        "new_tensor = torch.eye(3,4)"
      ],
      "execution_count": null,
      "outputs": []
    },
    {
      "cell_type": "code",
      "metadata": {
        "colab": {
          "base_uri": "https://localhost:8080/"
        },
        "id": "PFzkb0sbryvV",
        "outputId": "6fba725f-ca98-401d-86f3-586cf66b2558"
      },
      "source": [
        "new_tensor"
      ],
      "execution_count": null,
      "outputs": [
        {
          "output_type": "execute_result",
          "data": {
            "text/plain": [
              "tensor([[1., 0., 0., 0.],\n",
              "        [0., 1., 0., 0.],\n",
              "        [0., 0., 1., 0.]])"
            ]
          },
          "metadata": {
            "tags": []
          },
          "execution_count": 29
        }
      ]
    },
    {
      "cell_type": "markdown",
      "metadata": {
        "id": "xHSkjNBtApm2"
      },
      "source": [
        "- **torch.arrange( )** Returns a 1-D tensor of size [(end-start)/(step)]\r\n",
        "with values from the interval [start, end) taken with common difference step beginning from start."
      ]
    },
    {
      "cell_type": "code",
      "metadata": {
        "id": "0mDOrrRpApD-"
      },
      "source": [
        "new_tensor = torch.arange(start=2,end=7,step=1)"
      ],
      "execution_count": 5,
      "outputs": []
    },
    {
      "cell_type": "code",
      "metadata": {
        "id": "GmrKmrBBr0DQ",
        "colab": {
          "base_uri": "https://localhost:8080/"
        },
        "outputId": "777f34d6-92f3-442b-dc75-ce7686ebe0ea"
      },
      "source": [
        "new_tensor"
      ],
      "execution_count": 6,
      "outputs": [
        {
          "output_type": "execute_result",
          "data": {
            "text/plain": [
              "tensor([2, 3, 4, 5, 6])"
            ]
          },
          "metadata": {
            "tags": []
          },
          "execution_count": 6
        }
      ]
    },
    {
      "cell_type": "markdown",
      "metadata": {
        "id": "Qjy0ovBikhJj"
      },
      "source": [
        "**torch.linspace( )** Creates a one-dimensional tensor of size steps whose values are evenly spaced from start to end, inclusive."
      ]
    },
    {
      "cell_type": "code",
      "metadata": {
        "id": "wunpLhYBkg1I"
      },
      "source": [
        "new_tensor = torch.linspace(0.1,1,5)"
      ],
      "execution_count": 7,
      "outputs": []
    },
    {
      "cell_type": "code",
      "metadata": {
        "colab": {
          "base_uri": "https://localhost:8080/"
        },
        "id": "mOFjmcugkgyj",
        "outputId": "