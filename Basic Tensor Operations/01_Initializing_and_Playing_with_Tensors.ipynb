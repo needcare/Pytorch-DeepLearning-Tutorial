{
  "nbformat": 4,
  "nbformat_minor": 0,
  "metadata": {
    "colab": {
      "name": "01 Initializing and Playing with Tensors.ipynb",
      "provenance": [],
      "collapsed_sections": [],
      "toc_visible": true
    },
    "kernelspec": {
      "name": "python3",
      "display_name": "Python 3"
    },
    "accelerator": "GPU"
  },
  "cells": [
    {
      "cell_type": "markdown",
      "metadata": {
        "id": "jjvWqXtrFy9H"
      },
      "source": [
        "# What is a TENSOR ?"
      ]
    },
    {
      "cell_type": "markdown",
      "metadata": {
        "id": "jjOMolD7F8nH"
      },
      "source": [
        "- In mathematics, a tensor is an algebraic object that describes a relationship between sets of algebraic objects related to a vector space. Objects that tensors may map between include vectors and scalars, and even other tensors.\r\n",
        "- Tensors are simply mathematical objects that can be used to describe physical properties, just like scalars and vectors. In fact tensors are merely a generalisation of scalars and vectors; a scalar is a zero rank tensor, and a vector is a first rank tensor."
      ]
    },
    {
      "cell_type": "markdown",
      "metadata": {
        "id": "RLex3VemGZrx"
      },
      "source": [
        "# How different is VECTOR from TENSOR ?"
      ]
    },
    {
      "cell_type": "markdown",
      "metadata": {
        "id": "BIrXFArFGe6A"
      },
      "source": [
        "- The tensor is a more generalized form of scalar and vector. Or, the scalar, vector are the special cases of tensor. If a tensor has only magnitude and no direction (i.e., rank 0 tensor), then it is called scalar. If a tensor has magnitude and one direction (i.e., rank 1 tensor), then it is called vector."
      ]
    },
    {
      "cell_type": "markdown",
      "metadata": {
        "id": "S9fEojkVuYLX"
      },
      "source": [
        "# Installing Pytorch"
      ]
    },
    {
      "cell_type": "code",
      "metadata": {
        "colab": {
          "base_uri": "https://localhost:8080/"
        },
        "id": "c91Eb7iSsBI5",
        "outputId": "eb3c03d9-a0f4-46d6-8d8b-f3096a181534"
      },
      "source": [
        "!pip install torch torchvision"
      ],
      "execution_count": 1,
      "outputs": [
        {
          "output_type": "stream",
          "text": [
            "Requirement already satisfied: torch in /usr/local/lib/python3.7/dist-packages (1.8.0+cu101)\n",
            "Requirement already satisfied: torchvision in /usr/local/lib/python3.7/dist-packages (0.9.0+cu101)\n",
            "Requirement already satisfied: numpy in /usr/local/lib/python3.7/dist-packages (from torch) (1.19.5)\n",
            "Requirement already satisfied: typing-extensions in /usr/local/lib/python3.7/dist-packages (from torch) (3.7.4.3)\n",
            "Requirement already satisfied: pillow>=4.1.1 in /usr/local/lib/python3.7/dist-packages (from torchvision) (7.0.0)\n"
          ],
          "name": "stdout"
        }
      ]
    },
    {
      "cell_type": "markdown",
      "metadata": {
        "id": "01Di99NQudzc"
      },
      "source": [
        "# Initializing the Tensors and its Attributes"
      ]
    },
    {
      "cell_type": "code",
      "metadata": {
        "id": "FIHrYQ9OtBtr"
      },
      "source": [
        "import torch"
      ],
      "execution_count": 2,
      "outputs": []
    },
    {
      "cell_type": "code",
      "metadata": {
        "id": "ZPr2jb8zuj3R"
      },
      "source": [
        "# Initializi