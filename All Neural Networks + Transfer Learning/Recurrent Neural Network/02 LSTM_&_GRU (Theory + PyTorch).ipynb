
{
  "nbformat": 4,
  "nbformat_minor": 0,
  "metadata": {
    "colab": {
      "name": "LSTM & GRU_with_PyTorch.ipynb",
      "provenance": [],
      "collapsed_sections": [],
      "toc_visible": true
    },