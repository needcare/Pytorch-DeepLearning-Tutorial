
{
  "nbformat": 4,
  "nbformat_minor": 0,
  "metadata": {
    "colab": {
      "name": "Activation functions.ipynb",
      "provenance": [],
      "collapsed_sections": [],
      "toc_visible": true
    },
    "kernelspec": {
      "name": "python3",
      "display_name": "Python 3"
    },
    "accelerator": "GPU"
  },
  "cells": [
    {
      "cell_type": "markdown",
      "metadata": {
        "id": "1AagvNb4bZsT"
      },
      "source": [
        "# Activation Functions in Neural Networks"
      ]
    },
    {
      "cell_type": "markdown",
      "metadata": {
        "id": "MCLIHVaippje"
      },
      "source": [
        "## What is an Activation Function ?\n",
        "- Activation function is basically a reason for Activating/Trigerring or Deactivating a Neuron in a Neural Network(NN).\n",
        "- Activation function takes in sets of inputs and performs some operations on the input and converts it accordingly and gives it as an output.\n",
        "- <img src=\"https://editor.analyticsvidhya.com/uploads/37914Screenshot%20(45).png\"  width=\"600\" height=\"400\">\n",
        "- **Explanation:**\n",
        " - *W1,W2,W3...* are the weights that we initialize or can be the updated weights, *X1,X2,X3...* are the inputs that come into the neuron.\n",
        " - A Neuron can be divided into two equal parts.\n",
        " - Basically there will always be a dot product happening between the weights and input in the first half and can be denoted by *Z*.\n",
        " - Now in the second half this *Z* is being passed into the Activation Function denoted by *Alpha* in the above picture, and its output is being used as an input in the next layer.\n",
        " - Let us see some of the mostly used activation functions."
      ]
    },
    {
      "cell_type": "markdown",
      "metadata": {
        "id": "7AyiX6sJ0oNK"
      },
      "source": [
        "## List of Mostly Used Activation Functions\n",
        "- **1. Linear**\n",
        "- **2. Identity**\n",
        "- **3. Binary step(Heaviside Function)**\n",
        "- **4. Signum**\n",
        "- **5. ReLU (Rectified Linear Unit)**\n",
        "- **6. PReLU (Parametric Rectified Linear Unit)**\n",
        "- **7. LeakyReLU**\n",
        "- **8. ELU (Exponential Linear Unit)**\n",
        "- **9. Sigmoid**\n",
        "- **10. Tanh**\n",
        "- **11. ArcTan**\n",
        "- **12. Swish**\n",
        "- **13. Softmax**\n",
        "- **14. SoftPlus**\n",
        "- **15. Sinusoid**"
      ]
    },
    {
      "cell_type": "markdown",
      "metadata": {
        "id": "9G-_TQTV6ptC"
      },
      "source": [
        "- Pretty Big list haa...Let us Explore them one by one and try to visualize them through their behaviour to different set of values. Also we will look at some maths behind it!"
      ]
    },
    {
      "cell_type": "code",
      "metadata": {
        "id": "nMqI8GMlnC7t"
      },
      "source": [
        "# Importing Packages that visualize our data and its respective transformations\n",
        "import numpy as np\n",
        "import pandas as pd\n",
        "import matplotlib.pyplot as plt\n",
        "import seaborn"
      ],
      "execution_count": null,
      "outputs": []
    },
    {
      "cell_type": "markdown",
      "metadata": {
        "id": "z6xmmcoRrMy0"
      },
      "source": [
        "### **1) LINEAR ACTIVATION FUNCTION:**\n",
        "- It is also a line of form **y=mx** where **m** can take a value other than 1.\n",
        "- It can definitely have a slope higher or lesser than 1.\n",
        "- **Identity Function** is a special case of Linear function.\n",
        "- **Range=(-inf,+inf)**\n",
        "- <img src=\"https://miro.medium.com/max/443/1*tZJTs6iarNojyzpyG_n14g.png\"  width=\"350\" height=\"250\">\n",
        "- Slope **M** can take any value.\n",
        "- Let us understand it with a simple example.\n"
      ]
    },
    {
      "cell_type": "code",
      "metadata": {
        "id": "HwN9VDehsFaq"
      },
      "source": [
        "X=list(range(-20,20))"
      ],
      "execution_count": null,
      "outputs": []
    },
    {
      "cell_type": "code",
      "metadata": {
        "id": "zNEWUo3FrMRh"
      },
      "source": [
        "# Defining a Linear function with different slopes parameter.\n",
        "def Linear_function(X, slope):\n",
        "  return X*slope"
      ],
      "execution_count": null,
      "outputs": []
    },
    {
      "cell_type": "code",
      "metadata": {
        "colab": {
          "base_uri": "https://localhost:8080/",
          "height": 298
        },
        "id": "sZpQuTYWrIi3",
        "outputId": "efd5623a-87e0-4ed7-b178-e13f237feb05"
      },
      "source": [
        "X=list(range(-20,20))\n",
        "fig = plt.figure(figsize=(10,10))\n",
        "fig, axs = plt.subplots(2,2, sharex=True, sharey=True)\n",
        "axs[0,0].plot(X,[Linear_function(i,0.1) for i in X]) # A linear Line with slope m=0.2\n",
        "axs[0,1].plot(X,[Linear_function(i,0.4) for i in X]) # A linear line with slope m=0.4\n",
        "axs[1,0].plot(X,[Linear_function(i,0.6) for i in X]) # A linear line with slope m=0.6\n",
        "axs[1,1].plot(X,[Linear_function(i,0.8) for i in X]) # A linear line with slope m=0.8"
      ],
      "execution_count": null,
      "outputs": [
        {
          "output_type": "execute_result",
          "data": {
            "text/plain": [
              "[<matplotlib.lines.Line2D at 0x7fd70b4cee10>]"
            ]
          },
          "metadata": {
            "tags": []
          },
          "execution_count": 18
        },
        {
          "output_type": "display_data",
          "data": {
            "text/plain": [
              "<Figure size 720x720 with 0 Axes>"
            ]
          },
          "metadata": {
            "tags": []
          }
        },
        {
          "output_type": "display_data",
          "data": {
            "image/png": "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\n",
            "text/plain": [
              "<Figure size 432x288 with 4 Axes>"
            ]
          },
          "metadata": {
            "tags": [],